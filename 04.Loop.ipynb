{
 "cells": [
  {
   "cell_type": "markdown",
   "metadata": {},
   "source": [
    "Printing number 1 to 10 in Loop"
   ]
  },
  {
   "cell_type": "code",
   "execution_count": 7,
   "metadata": {},
   "outputs": [
    {
     "name": "stdout",
     "output_type": "stream",
     "text": [
      "1\n",
      "2\n",
      "3\n",
      "4\n",
      "5\n",
      "6\n",
      "7\n",
      "8\n",
      "9\n",
      "10\n",
      "1 2 3 4 5 6 7 8 9 10 "
     ]
    }
   ],
   "source": [
    "# While loop\n",
    "\n",
    "num = 1\n",
    "while num <= 10:\n",
    "    print(num)\n",
    "    num += 1\n",
    "\n",
    "\n",
    "#  for loop\n",
    "\n",
    "for num in range (1,11):\n",
    "    print(num , end = \" \")\n"
   ]
  },
  {
   "cell_type": "markdown",
   "metadata": {},
   "source": [
    "Multiple of Table with loop."
   ]
  },
  {
   "cell_type": "code",
   "execution_count": 22,
   "metadata": {},
   "outputs": [
    {
     "name": "stdout",
     "output_type": "stream",
     "text": [
      "5, 10, 15, 20, 25, 30, 35, 40, 45, 50, "
     ]
    }
   ],
   "source": [
    "v = int(input())\n",
    "i = 1\n",
    "\n",
    "while i <= 10:\n",
    "    print(v  * i , end = \", \")\n",
    "    i += 1"
   ]
  },
  {
   "cell_type": "markdown",
   "metadata": {},
   "source": [
    "Problem statement\n",
    "\n",
    "Write a program that generates a multiplication table for a given integer."
   ]
  },
  {
   "cell_type": "code",
   "execution_count": 23,
   "metadata": {},
   "outputs": [
    {
     "name": "stdout",
     "output_type": "stream",
     "text": [
      "10, 20, 30, 40, 50, 60, 70, 80, 90, 100, "
     ]
    }
   ],
   "source": [
    "n = int(input())\n",
    "\n",
    "for i in range (1,11):\n",
    "    print(n*i , end = \", \")"
   ]
  },
  {
   "cell_type": "markdown",
   "metadata": {},
   "source": [
    "Printing sum if N Natural number."
   ]
  },
  {
   "cell_type": "code",
   "execution_count": 3,
   "metadata": {},
   "outputs": [
    {
     "name": "stdout",
     "output_type": "stream",
     "text": [
      "0 1\n",
      "1 2\n",
      "3 3\n",
      "6 4\n",
      "10 5\n",
      "15\n"
     ]
    }
   ],
   "source": [
    "num = 1\n",
    "n = int(input())\n",
    "s = 0\n",
    "\n",
    "while num <= n:\n",
    "    print(s, num)\n",
    "    s += num\n",
    "    num += 1\n",
    "print(s)"
   ]
  },
  {
   "cell_type": "markdown",
   "metadata": {},
   "source": [
    "Sum of Even number till N.\n"
   ]
  },
  {
   "cell_type": "markdown",
   "metadata": {},
   "source": [
    "Problem Statement\n",
    "\n",
    "Given a number N, print sum of all even numbers from 1 to N."
   ]
  },
  {
   "cell_type": "code",
   "execution_count": 2,
   "metadata": {},
   "outputs": [
    {
     "name": "stdout",
     "output_type": "stream",
     "text": [
      "56\n"
     ]
    }
   ],
   "source": [
    "num = 1\n",
    "n = int(input())\n",
    "s = 0\n",
    "\n",
    "while num <= n:\n",
    "    if (num % 2 == 0):\n",
    "        s += num\n",
    "    num += 1\n",
    "print(s)"
   ]
  },
  {
   "cell_type": "markdown",
   "metadata": {},
   "source": [
    "Problem statement\n",
    "\n",
    "Given a number N, print sum of all even numbers from 1 to N."
   ]
  },
  {
   "cell_type": "code",
   "execution_count": 2,
   "metadata": {},
   "outputs": [
    {
     "name": "stdout",
     "output_type": "stream",
     "text": [
      "6\n"
     ]
    }
   ],
   "source": [
    "n = int(input())\n",
    "count = 0\n",
    "for i in range (2 ,n+1, 2):\n",
    "    count += i\n",
    "print(count)"
   ]
  },
  {
   "cell_type": "markdown",
   "metadata": {},
   "source": [
    "Continue Statement"
   ]
  },
  {
   "cell_type": "code",
   "execution_count": 7,
   "metadata": {},
   "outputs": [
    {
     "name": "stdout",
     "output_type": "stream",
     "text": [
      "2\n",
      "4\n",
      "6\n",
      "8\n",
      "10\n",
      "2,4,6,8,10,"
     ]
    }
   ],
   "source": [
    "num = 1\n",
    "\n",
    "while(num <= 10):\n",
    "    if num % 2 != 0:\n",
    "        # num is odd\n",
    "        num += 1 # go to the next natural number\n",
    "        continue # go to the nearest loop again\n",
    "    print(num)\n",
    "    num += 1\n",
    "\n",
    "for i in range(0,12,2):\n",
    "    if i == 0:\n",
    "        continue\n",
    "    print(i, end = \",\")\n"
   ]
  },
  {
   "cell_type": "markdown",
   "metadata": {},
   "source": [
    "Break"
   ]
  },
  {
   "cell_type": "code",
   "execution_count": 16,
   "metadata": {},
   "outputs": [
    {
     "name": "stdout",
     "output_type": "stream",
     "text": [
      "1, 2, 3, 4, 5, 6, 7, 8, 9, 10, 11, 12, stopping the loop here....\n",
      "End\n",
      "1,2,3,4,5,6,7,8,9,10,11,12,stopping the loop here....\n"
     ]
    }
   ],
   "source": [
    "\n",
    "num = 1\n",
    "\n",
    "while(num <= 20):\n",
    "    if num == 13:\n",
    "        print(\"stopping the loop here....\")\n",
    "        break\n",
    "    print(num , end = \", \")\n",
    "    num += 1\n",
    "print(\"End\")\n",
    "\n",
    "\n",
    "for i in range(1,20):\n",
    "    if i == 13:\n",
    "        print(\"stopping the loop here....\")\n",
    "        break\n",
    "    print(i, end = \",\")"
   ]
  },
  {
   "cell_type": "markdown",
   "metadata": {},
   "source": [
    "Pass"
   ]
  },
  {
   "cell_type": "code",
   "execution_count": 31,
   "metadata": {},
   "outputs": [
    {
     "name": "stdout",
     "output_type": "stream",
     "text": [
      "1, 2, 3, 4, 5, 6, 7, 8, 9, 10, 11, 12, 13, 14, 15, 16, 17, 18, 19, 20, End\n",
      "1, 2, 3, 4, 5, 6, 7, 8, 9, 10, 11, 12, 13, 14, 15, 16, 17, 18, 19, 20, End\n"
     ]
    }
   ],
   "source": [
    "num = 1\n",
    "\n",
    "while(num <= 20):\n",
    "    if num == 13:\n",
    "        pass\n",
    "    print(num, end = \", \")\n",
    "    num += 1\n",
    "\n",
    "print(\"End\")\n",
    "\n",
    "for i in range(1,21):\n",
    "    if i == 13:\n",
    "        pass\n",
    "    print(i, end = \", \")\n",
    "print(\"End\")"
   ]
  },
  {
   "cell_type": "markdown",
   "metadata": {},
   "source": [
    "Problem statement\n",
    "\n",
    "What will be the output of following code?\n",
    "\n",
    "    i=1\n",
    "    while i<5:\n",
    "        if i==3:\n",
    "            break\n",
    "        print(i,end=\" \")\n",
    "        i = i +1"
   ]
  },
  {
   "cell_type": "code",
   "execution_count": 39,
   "metadata": {},
   "outputs": [
    {
     "name": "stdout",
     "output_type": "stream",
     "text": [
      "1 2 "
     ]
    }
   ],
   "source": [
    "\n",
    "i=1\n",
    "while i<5:\n",
    "    if i==3:\n",
    "        break\n",
    "    print(i,end=\" \")\n",
    "    i = i +1"
   ]
  },
  {
   "cell_type": "code",
   "execution_count": 40,
   "metadata": {},
   "outputs": [
    {
     "name": "stdout",
     "output_type": "stream",
     "text": [
      "1\n",
      "2\n"
     ]
    }
   ],
   "source": [
    "\n",
    "for n in range(1,5):\n",
    "    if n==3:\n",
    "        break\n",
    "    print(n)\n",
    "    n = i + 1"
   ]
  },
  {
   "cell_type": "markdown",
   "metadata": {},
   "source": [
    "Problem statement\n",
    "\n",
    "What will be the output of following code?\n",
    "\n",
    "    i=1\n",
    "    while i<5:\n",
    "        if i == 6:\n",
    "            break\n",
    "        print(i,end=\" \")\n",
    "        i = i + 1\n",
    "    else:\n",
    "        print(“Else is also printed”);"
   ]
  },
  {
   "cell_type": "code",
   "execution_count": 44,
   "metadata": {},
   "outputs": [
    {
     "name": "stdout",
     "output_type": "stream",
     "text": [
      "1 2 3 4 Else is also printed\n",
      "1, 2, 3, Else is also printed\n"
     ]
    }
   ],
   "source": [
    "i=1\n",
    "while i<5:\n",
    "    if i == 6:\n",
    "        break\n",
    "    print(i,end=\" \")\n",
    "    i = i + 1\n",
    "else:\n",
    "    print(\"Else is also printed\")\n",
    "\n",
    "for n in range(1,4):\n",
    "    if n == 6:\n",
    "        break\n",
    "    print(n, end = \", \")\n",
    "else:\n",
    "    print(\"Else is also printed\")"
   ]
  },
  {
   "cell_type": "markdown",
   "metadata": {},
   "source": [
    "Problem statement\n",
    "\n",
    "What will be the output of the following code?\n",
    "\n",
    "    i=1\n",
    "    while i<5:\n",
    "        if i==3:\n",
    "                continue\n",
    "        print(i, end=\" \")\n",
    "        i = i + 1"
   ]
  },
  {
   "cell_type": "code",
   "execution_count": 46,
   "metadata": {},
   "outputs": [
    {
     "name": "stdout",
     "output_type": "stream",
     "text": [
      "1 2 "
     ]
    },
    {
     "ename": "KeyboardInterrupt",
     "evalue": "",
     "output_type": "error",
     "traceback": [
      "\u001b[1;31m---------------------------------------------------------------------------\u001b[0m",
      "\u001b[1;31mKeyboardInterrupt\u001b[0m                         Traceback (most recent call last)",
      "Cell \u001b[1;32mIn[46], line 4\u001b[0m\n\u001b[0;32m      2\u001b[0m \u001b[38;5;28;01mwhile\u001b[39;00m i\u001b[38;5;241m<\u001b[39m\u001b[38;5;241m5\u001b[39m:\n\u001b[0;32m      3\u001b[0m     \u001b[38;5;28;01mif\u001b[39;00m i\u001b[38;5;241m==\u001b[39m\u001b[38;5;241m3\u001b[39m:\n\u001b[1;32m----> 4\u001b[0m             \u001b[38;5;28;01mcontinue\u001b[39;00m\n\u001b[0;32m      5\u001b[0m     \u001b[38;5;28mprint\u001b[39m(i, end\u001b[38;5;241m=\u001b[39m\u001b[38;5;124m\"\u001b[39m\u001b[38;5;124m \u001b[39m\u001b[38;5;124m\"\u001b[39m)\n\u001b[0;32m      6\u001b[0m     i \u001b[38;5;241m=\u001b[39m i \u001b[38;5;241m+\u001b[39m \u001b[38;5;241m1\u001b[39m\n",
      "\u001b[1;31mKeyboardInterrupt\u001b[0m: "
     ]
    }
   ],
   "source": [
    "i=1\n",
    "while i<5:\n",
    "    if i==3:\n",
    "            continue\n",
    "    print(i, end=\" \")\n",
    "    i = i + 1\n",
    "\n",
    "    # 1 2 and then code executes infinite loop"
   ]
  },
  {
   "cell_type": "markdown",
   "metadata": {},
   "source": [
    "Problem statement\n",
    "\n",
    "What will be the output of following code?\n",
    "\n",
    "    for i in range(1,10,2):\n",
    "            print(i, end=' ')"
   ]
  },
  {
   "cell_type": "code",
   "execution_count": 47,
   "metadata": {},
   "outputs": [
    {
     "name": "stdout",
     "output_type": "stream",
     "text": [
      "1 3 5 7 9 "
     ]
    }
   ],
   "source": [
    "for i in range(1,10,2):\n",
    "        print(i, end=' ')"
   ]
  },
  {
   "cell_type": "markdown",
   "metadata": {},
   "source": [
    "\n",
    "Problem statement\n",
    "\n",
    "What will be the output of following code?\n",
    "\n",
    "    for i in range(5):\n",
    "        print(i, end= ' ')\n"
   ]
  },
  {
   "cell_type": "code",
   "execution_count": 48,
   "metadata": {},
   "outputs": [
    {
     "name": "stdout",
     "output_type": "stream",
     "text": [
      "0 1 2 3 4 "
     ]
    }
   ],
   "source": [
    "for i in range(5):\n",
    "    print(i, end= ' ')\n"
   ]
  }
 ],
 "metadata": {
  "kernelspec": {
   "display_name": "Python 3",
   "language": "python",
   "name": "python3"
  },
  "language_info": {
   "codemirror_mode": {
    "name": "ipython",
    "version": 3
   },
   "file_extension": ".py",
   "mimetype": "text/x-python",
   "name": "python",
   "nbconvert_exporter": "python",
   "pygments_lexer": "ipython3",
   "version": "3.12.4"
  }
 },
 "nbformat": 4,
 "nbformat_minor": 2
}
