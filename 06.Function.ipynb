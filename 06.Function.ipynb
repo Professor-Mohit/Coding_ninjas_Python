{
 "cells": [
  {
   "cell_type": "markdown",
   "metadata": {},
   "source": [
    "Parameter and Arguments in Function"
   ]
  },
  {
   "cell_type": "code",
   "execution_count": 1,
   "metadata": {},
   "outputs": [],
   "source": [
    "def payment_details(name, address, phone):\n",
    "    print(\"Name:\", name, \" Address of the user is:\", address, \"Phone number is: \", phone)\n",
    "    print(\"Payment options available are credit card, debit card and UPI\")\n"
   ]
  },
  {
   "cell_type": "code",
   "execution_count": 3,
   "metadata": {},
   "outputs": [
    {
     "name": "stdout",
     "output_type": "stream",
     "text": [
      "Name: Sanket  Address of the user is: A/B D-Block Phone number is:  9898989898\n",
      "Payment options available are credit card, debit card and UPI\n"
     ]
    }
   ],
   "source": [
    "payment_details(\"Sanket\", \"A/B D-Block\", 9898989898)"
   ]
  },
  {
   "cell_type": "code",
   "execution_count": 4,
   "metadata": {},
   "outputs": [
    {
     "name": "stdout",
     "output_type": "stream",
     "text": [
      "Name: Sarthak  Address of the user is: D-C B Block Phone number is:  9999999999\n",
      "Payment options available are credit card, debit card and UPI\n"
     ]
    }
   ],
   "source": [
    "payment_details(\"Sarthak\", \"D-C B Block\", 9999999999)"
   ]
  },
  {
   "cell_type": "markdown",
   "metadata": {},
   "source": [
    "Calculate square"
   ]
  },
  {
   "cell_type": "code",
   "execution_count": 2,
   "metadata": {},
   "outputs": [
    {
     "name": "stdout",
     "output_type": "stream",
     "text": [
      "Square value is 81\n"
     ]
    }
   ],
   "source": [
    "def calculate_square(num):\n",
    "    print(\"Square value is\", num * num)\n",
    "calculate_square(9)"
   ]
  },
  {
   "cell_type": "code",
   "execution_count": 6,
   "metadata": {},
   "outputs": [
    {
     "name": "stdout",
     "output_type": "stream",
     "text": [
      "Square value is 324\n"
     ]
    }
   ],
   "source": [
    "calculate_square(18)"
   ]
  },
  {
   "cell_type": "code",
   "execution_count": 7,
   "metadata": {},
   "outputs": [
    {
     "name": "stdout",
     "output_type": "stream",
     "text": [
      "Square value is 100\n"
     ]
    }
   ],
   "source": [
    "calculate_square(10)"
   ]
  },
  {
   "cell_type": "markdown",
   "metadata": {},
   "source": [
    "Check Prime number with Function"
   ]
  },
  {
   "cell_type": "code",
   "execution_count": 36,
   "metadata": {},
   "outputs": [
    {
     "data": {
      "text/plain": [
       "False"
      ]
     },
     "execution_count": 36,
     "metadata": {},
     "output_type": "execute_result"
    }
   ],
   "source": [
    "# def check_prime(num):\n",
    "#     for i in range(2,num):\n",
    "#         if num % i == 0:\n",
    "#             return  False\n",
    "#     return True\n",
    "    \n",
    "\n",
    "\n",
    "def check_prime(num):\n",
    "    b = True\n",
    "    for i in range(2,num):\n",
    "        if num % i == 0:\n",
    "            b = False\n",
    "    \n",
    "    \n",
    "    return b\n",
    "\n",
    "check_prime(28)"
   ]
  },
  {
   "cell_type": "markdown",
   "metadata": {},
   "source": [
    "Problem statement\n",
    "\n",
    "What will be the output of the following Python code?\n",
    "\n",
    "def functionA():\n",
    "\n",
    "    print(\"Entering functionA\")\n",
    "    functionB()\n",
    "    print(\"Exiting functionA\")\n",
    "\n",
    "def functionB():\n",
    "\n",
    "    print(\"Entering functionB\")\n",
    "    functionC()\n",
    "    print(\"Exiting functionB\")\n",
    "\n",
    "def functionC():\n",
    "\n",
    "    print(\"Entering functionC\")\n",
    "    print(\"Exiting functionC\")\n",
    "\n",
    "functionA()"
   ]
  },
  {
   "cell_type": "code",
   "execution_count": 2,
   "metadata": {},
   "outputs": [
    {
     "name": "stdout",
     "output_type": "stream",
     "text": [
      "Entering functionA\n",
      "Entering functionB\n",
      "Entering functionC\n",
      "Exiting functionC\n",
      "Exiting functionB\n",
      "Exiting functionA\n"
     ]
    }
   ],
   "source": [
    "\n",
    "\n",
    "def functionA():\n",
    "    print(\"Entering functionA\")\n",
    "    functionB()\n",
    "    print(\"Exiting functionA\")\n",
    "\n",
    "def functionB():\n",
    "    print(\"Entering functionB\")\n",
    "    functionC()\n",
    "    print(\"Exiting functionB\")\n",
    "\n",
    "def functionC():\n",
    "    print(\"Entering functionC\")\n",
    "    print(\"Exiting functionC\")\n",
    "\n",
    "functionA()"
   ]
  },
  {
   "cell_type": "markdown",
   "metadata": {},
   "source": [
    "Problem statement\n",
    "\n",
    "What will be the output of following code?\n"
   ]
  },
  {
   "cell_type": "code",
   "execution_count": 4,
   "metadata": {},
   "outputs": [
    {
     "name": "stdout",
     "output_type": "stream",
     "text": [
      "14\n"
     ]
    }
   ],
   "source": [
    "\n",
    "a = 14\n",
    "def f():\n",
    "    a=10 # Local varibale\n",
    "f()\n",
    "print(a)  # Global variable"
   ]
  },
  {
   "cell_type": "markdown",
   "metadata": {},
   "source": [
    "Problem statement\n",
    "\n",
    "What will be the output of following code?\n"
   ]
  },
  {
   "cell_type": "code",
   "execution_count": 4,
   "metadata": {},
   "outputs": [
    {
     "name": "stdout",
     "output_type": "stream",
     "text": [
      "12\n"
     ]
    }
   ],
   "source": [
    "\n",
    "a = 14\n",
    "def f():\n",
    "    a = 12\n",
    "    return a\n",
    "a = f()\n",
    "print(a)"
   ]
  },
  {
   "cell_type": "code",
   "execution_count": 5,
   "metadata": {},
   "outputs": [
    {
     "name": "stdout",
     "output_type": "stream",
     "text": [
      "Starting to make a payment through UPI on 04/10/2024\n",
      "Payment complete\n"
     ]
    }
   ],
   "source": [
    "def make_payment_through(date_of_payment= \"04/10/2024\", payment_mode=\"UPI\"):\n",
    "    print(\"Starting to make a payment through\", payment_mode, \"on\", date_of_payment)\n",
    "    print(\"Payment complete\")\n",
    "\n",
    "make_payment_through()"
   ]
  },
  {
   "cell_type": "markdown",
   "metadata": {},
   "source": [
    "Problem statement\n",
    "\n",
    "What will the output of the following code?\n"
   ]
  },
  {
   "cell_type": "code",
   "execution_count": 6,
   "metadata": {},
   "outputs": [
    {
     "name": "stdout",
     "output_type": "stream",
     "text": [
      "17\n"
     ]
    }
   ],
   "source": [
    "\n",
    "def function(a,b=10,c=5):\n",
    "    return a+b-c\n",
    "value = function(10,12)\n",
    "print(value)"
   ]
  },
  {
   "cell_type": "code",
   "execution_count": 9,
   "metadata": {},
   "outputs": [
    {
     "name": "stdout",
     "output_type": "stream",
     "text": [
      "21\n"
     ]
    }
   ],
   "source": [
    "def function(a,b,c=1):\n",
    "    return a+b-c\n",
    "value = function(10,12)\n",
    "print(value)"
   ]
  },
  {
   "cell_type": "markdown",
   "metadata": {},
   "source": [
    "Problem statement\n",
    "\n",
    "What will the output of the following code?\n"
   ]
  },
  {
   "cell_type": "code",
   "execution_count": 10,
   "metadata": {},
   "outputs": [
    {
     "name": "stdout",
     "output_type": "stream",
     "text": [
      "11\n"
     ]
    }
   ],
   "source": [
    "def function(a,b,c=1,d=5):\n",
    "    return a+b+c+d\n",
    "value = function(1,2,d=7)\n",
    "print(value)"
   ]
  },
  {
   "cell_type": "markdown",
   "metadata": {},
   "source": [
    "Args and Kwargs"
   ]
  },
  {
   "cell_type": "code",
   "execution_count": 11,
   "metadata": {},
   "outputs": [
    {
     "name": "stdout",
     "output_type": "stream",
     "text": [
      "19\n",
      "{'name': 'Mohit', 'company': 'Preparing', 'age': 20}\n"
     ]
    }
   ],
   "source": [
    "def sum_of_numbers(*numbers):\n",
    "    print(sum(numbers))\n",
    "\n",
    "sum_of_numbers(10,3,6)\n",
    "\n",
    "def print_details(**details):\n",
    "    print(details)\n",
    "\n",
    "print_details(name=\"Mohit\",company=\"Preparing\", age=20)\n"
   ]
  },
  {
   "cell_type": "markdown",
   "metadata": {},
   "source": [
    "Problem statement\n",
    "\n",
    "You are given a number 'n'. Return \"true\" if the given number is a palindrome or \"false\" otherwise.\n",
    "\n",
    "\n",
    "\n",
    "Note:\n",
    "You don’t need to print anything, it has already been taken care of, just complete the given function. “true” will be printed if the returned value is \"true \"and “false” otherwise."
   ]
  },
  {
   "cell_type": "code",
   "execution_count": 6,
   "metadata": {},
   "outputs": [
    {
     "data": {
      "text/plain": [
       "True"
      ]
     },
     "execution_count": 6,
     "metadata": {},
     "output_type": "execute_result"
    }
   ],
   "source": [
    "def check_palindrome(p):\n",
    "    for i in range(len(p) // 2):\n",
    "        if p[i] != p[-i - 1]:\n",
    "            return False\n",
    "        return True\n",
    "    \n",
    "check_palindrome(\"synonys\")"
   ]
  },
  {
   "cell_type": "code",
   "execution_count": 3,
   "metadata": {},
   "outputs": [
    {
     "data": {
      "text/plain": [
       "False"
      ]
     },
     "execution_count": 3,
     "metadata": {},
     "output_type": "execute_result"
    }
   ],
   "source": [
    "check_palindrome(\"Mohit\")"
   ]
  },
  {
   "cell_type": "markdown",
   "metadata": {},
   "source": [
    "Problem statement\n",
    "\n",
    "You are given an integer 'n'. Return 'true' if 'n' is an Armstrong number, and 'false' otherwise.\n",
    "\n",
    "\n",
    "An Armstrong number is a number (with 'k' digits) such that the sum of its digits raised to 'kth' power is equal to the number itself. For example, 371 is an Armstrong number because 3^3 + 7^3 + 1^3 = 371."
   ]
  },
  {
   "cell_type": "code",
   "execution_count": 1,
   "metadata": {},
   "outputs": [
    {
     "data": {
      "text/plain": [
       "True"
      ]
     },
     "execution_count": 1,
     "metadata": {},
     "output_type": "execute_result"
    }
   ],
   "source": [
    "def check_armstrong(num):\n",
    "    s = 0\n",
    "    for i in str(num):\n",
    "        s += int(i) ** len(str(num))\n",
    "    if s == num:\n",
    "        return True\n",
    "    else:\n",
    "        return False\n",
    "    \n",
    "check_armstrong(153)\n"
   ]
  },
  {
   "cell_type": "markdown",
   "metadata": {},
   "source": [
    "Time complexity Dsa \n"
   ]
  },
  {
   "cell_type": "code",
   "execution_count": 2,
   "metadata": {},
   "outputs": [
    {
     "data": {
      "text/plain": [
       "325"
      ]
     },
     "execution_count": 2,
     "metadata": {},
     "output_type": "execute_result"
    }
   ],
   "source": [
    "def sum_n_natural_numbers_optimised(n):\n",
    "    sum = 0\n",
    "    for i in range(1,n+1):\n",
    "        sum += i\n",
    "    return sum\n",
    "    \n",
    "sum_n_natural_numbers_optimised(25)"
   ]
  }
 ],
 "metadata": {
  "kernelspec": {
   "display_name": "Python 3",
   "language": "python",
   "name": "python3"
  },
  "language_info": {
   "codemirror_mode": {
    "name": "ipython",
    "version": 3
   },
   "file_extension": ".py",
   "mimetype": "text/x-python",
   "name": "python",
   "nbconvert_exporter": "python",
   "pygments_lexer": "ipython3",
   "version": "3.12.4"
  }
 },
 "nbformat": 4,
 "nbformat_minor": 2
}
