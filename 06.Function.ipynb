{
 "cells": [
  {
   "cell_type": "markdown",
   "metadata": {},
   "source": [
    "Parameter and Arguments in Function"
   ]
  },
  {
   "cell_type": "code",
   "execution_count": 1,
   "metadata": {},
   "outputs": [],
   "source": [
    "def payment_details(name, address, phone):\n",
    "    print(\"Name:\", name, \" Address of the user is:\", address, \"Phone number is: \", phone)\n",
    "    print(\"Payment options available are credit card, debit card and UPI\")\n"
   ]
  },
  {
   "cell_type": "code",
   "execution_count": 3,
   "metadata": {},
   "outputs": [
    {
     "name": "stdout",
     "output_type": "stream",
     "text": [
      "Name: Sanket  Address of the user is: A/B D-Block Phone number is:  9898989898\n",
      "Payment options available are credit card, debit card and UPI\n"
     ]
    }
   ],
   "source": [
    "payment_details(\"Sanket\", \"A/B D-Block\", 9898989898)"
   ]
  },
  {
   "cell_type": "code",
   "execution_count": 4,
   "metadata": {},
   "outputs": [
    {
     "name": "stdout",
     "output_type": "stream",
     "text": [
      "Name: Sarthak  Address of the user is: D-C B Block Phone number is:  9999999999\n",
      "Payment options available are credit card, debit card and UPI\n"
     ]
    }
   ],
   "source": [
    "payment_details(\"Sarthak\", \"D-C B Block\", 9999999999)"
   ]
  },
  {
   "cell_type": "markdown",
   "metadata": {},
   "source": [
    "Calculate square"
   ]
  },
  {
   "cell_type": "code",
   "execution_count": 5,
   "metadata": {},
   "outputs": [],
   "source": [
    "def calculate_square(num):\n",
    "    print(\"Square value is\", num * num)\n",
    "\n"
   ]
  },
  {
   "cell_type": "code",
   "execution_count": 6,
   "metadata": {},
   "outputs": [
    {
     "name": "stdout",
     "output_type": "stream",
     "text": [
      "Square value is 81\n"
     ]
    }
   ],
   "source": [
    "calculate_square(9)"
   ]
  },
  {
   "cell_type": "code",
   "execution_count": 7,
   "metadata": {},
   "outputs": [
    {
     "name": "stdout",
     "output_type": "stream",
     "text": [
      "Square value is 64\n"
     ]
    }
   ],
   "source": [
    "calculate_square(8)\n"
   ]
  },
  {
   "cell_type": "code",
   "execution_count": 8,
   "metadata": {},
   "outputs": [
    {
     "name": "stdout",
     "output_type": "stream",
     "text": [
      "Square value is 324\n"
     ]
    }
   ],
   "source": [
    "calculate_square(18)"
   ]
  },
  {
   "cell_type": "markdown",
   "metadata": {},
   "source": [
    "Check Prime number with Function"
   ]
  },
  {
   "cell_type": "code",
   "execution_count": 36,
   "metadata": {},
   "outputs": [
    {
     "data": {
      "text/plain": [
       "False"
      ]
     },
     "execution_count": 36,
     "metadata": {},
     "output_type": "execute_result"
    }
   ],
   "source": [
    "# def check_prime(num):\n",
    "#     for i in range(2,num):\n",
    "#         if num % i == 0:\n",
    "#             return  False\n",
    "#     return True\n",
    "    \n",
    "\n",
    "\n",
    "def check_prime(num):\n",
    "    b = True\n",
    "    for i in range(2,num):\n",
    "        if num%i == 0:\n",
    "            b = False\n",
    "    \n",
    "    \n",
    "    return b\n",
    "\n",
    "check_prime(28)"
   ]
  },
  {
   "cell_type": "markdown",
   "metadata": {},
   "source": [
    "Problem statement\n",
    "\n",
    "What will be the output of the following Python code?\n",
    "\n",
    "def functionA():\n",
    "\n",
    "    print(\"Entering functionA\")\n",
    "    functionB()\n",
    "    print(\"Exiting functionA\")\n",
    "\n",
    "def functionB():\n",
    "\n",
    "    print(\"Entering functionB\")\n",
    "    functionC()\n",
    "    print(\"Exiting functionB\")\n",
    "\n",
    "def functionC():\n",
    "\n",
    "    print(\"Entering functionC\")\n",
    "    print(\"Exiting functionC\")\n",
    "\n",
    "functionA()"
   ]
  },
  {
   "cell_type": "code",
   "execution_count": 2,
   "metadata": {},
   "outputs": [
    {
     "name": "stdout",
     "output_type": "stream",
     "text": [
      "Entering functionA\n",
      "Entering functionB\n",
      "Entering functionC\n",
      "Exiting functionC\n",
      "Exiting functionB\n",
      "Exiting functionA\n"
     ]
    }
   ],
   "source": [
    "\n",
    "\n",
    "def functionA():\n",
    "    print(\"Entering functionA\")\n",
    "    functionB()\n",
    "    print(\"Exiting functionA\")\n",
    "\n",
    "def functionB():\n",
    "    print(\"Entering functionB\")\n",
    "    functionC()\n",
    "    print(\"Exiting functionB\")\n",
    "\n",
    "def functionC():\n",
    "    print(\"Entering functionC\")\n",
    "    print(\"Exiting functionC\")\n",
    "\n",
    "functionA()"
   ]
  },
  {
   "cell_type": "markdown",
   "metadata": {},
   "source": [
    "Problem statement\n",
    "\n",
    "What will be the output of following code?\n"
   ]
  },
  {
   "cell_type": "code",
   "execution_count": 3,
   "metadata": {},
   "outputs": [
    {
     "name": "stdout",
     "output_type": "stream",
     "text": [
      "14\n"
     ]
    }
   ],
   "source": [
    "\n",
    "a = 14\n",
    "def f():\n",
    "    a=12\n",
    "f()\n",
    "print(a)"
   ]
  },
  {
   "cell_type": "markdown",
   "metadata": {},
   "source": [
    "Problem statement\n",
    "\n",
    "What will be the output of following code?\n"
   ]
  },
  {
   "cell_type": "code",
   "execution_count": 4,
   "metadata": {},
   "outputs": [
    {
     "name": "stdout",
     "output_type": "stream",
     "text": [
      "12\n"
     ]
    }
   ],
   "source": [
    "\n",
    "a = 14\n",
    "def f():\n",
    "    a = 12\n",
    "    return a\n",
    "a = f()\n",
    "print(a)"
   ]
  },
  {
   "cell_type": "code",
   "execution_count": 6,
   "metadata": {},
   "outputs": [
    {
     "name": "stdout",
     "output_type": "stream",
     "text": [
      "Starting to make a payment through UPI on 04/10/2024\n",
      "Payment complete\n"
     ]
    }
   ],
   "source": [
    "def make_payment_through(date_of_payment= \"04/10/2024\", payment_mode=\"UPI\"):\n",
    "    print(\"Starting to make a payment through\", payment_mode, \"on\", date_of_payment)\n",
    "    print(\"Payment complete\")\n",
    "\n",
    "make_payment_through()"
   ]
  },
  {
   "cell_type": "markdown",
   "metadata": {},
   "source": [
    "Problem statement\n",
    "\n",
    "What will the output of the following code?\n"
   ]
  },
  {
   "cell_type": "code",
   "execution_count": 8,
   "metadata": {},
   "outputs": [
    {
     "name": "stdout",
     "output_type": "stream",
     "text": [
      "17\n"
     ]
    }
   ],
   "source": [
    "\n",
    "def function(a,b=10,c=5):\n",
    "    return a+b-c\n",
    "value = function(10,12)\n",
    "print(value)"
   ]
  },
  {
   "cell_type": "code",
   "execution_count": 9,
   "metadata": {},
   "outputs": [
    {
     "name": "stdout",
     "output_type": "stream",
     "text": [
      "21\n"
     ]
    }
   ],
   "source": [
    "def function(a,b,c=1):\n",
    "    return a+b-c\n",
    "value = function(10,12)\n",
    "print(value)"
   ]
  },
  {
   "cell_type": "markdown",
   "metadata": {},
   "source": [
    "Problem statement\n",
    "\n",
    "What will the output of the following code?\n"
   ]
  },
  {
   "cell_type": "code",
   "execution_count": 10,
   "metadata": {},
   "outputs": [
    {
     "name": "stdout",
     "output_type": "stream",
     "text": [
      "11\n"
     ]
    }
   ],
   "source": [
    "def function(a,b,c=1,d=5):\n",
    "    return a+b+c+d\n",
    "value = function(1,2,d=7)\n",
    "print(value)"
   ]
  }
 ],
 "metadata": {
  "kernelspec": {
   "display_name": "Python 3",
   "language": "python",
   "name": "python3"
  },
  "language_info": {
   "codemirror_mode": {
    "name": "ipython",
    "version": 3
   },
   "file_extension": ".py",
   "mimetype": "text/x-python",
   "name": "python",
   "nbconvert_exporter": "python",
   "pygments_lexer": "ipython3",
   "version": "3.12.4"
  }
 },
 "nbformat": 4,
 "nbformat_minor": 2
}
