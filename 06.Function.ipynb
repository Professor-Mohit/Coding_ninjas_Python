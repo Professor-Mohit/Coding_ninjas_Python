{
 "cells": [
  {
   "cell_type": "markdown",
   "metadata": {},
   "source": [
    "Parameter and Arguments in Function"
   ]
  },
  {
   "cell_type": "code",
   "execution_count": null,
   "metadata": {},
   "outputs": [],
   "source": [
    "def payment_details(name, address, phone): #Parameter \n",
    "    print(\"Name:\", name, \" Address of the user is:\", address, \"Phone number is: \", phone)\n",
    "    print(\"Payment options available are credit card, debit card and UPI\")\n"
   ]
  },
  {
   "cell_type": "code",
   "execution_count": null,
   "metadata": {},
   "outputs": [
    {
     "name": "stdout",
     "output_type": "stream",
     "text": [
      "Name: Mohit  Address of the user is: A/B D-Block Phone number is:  9898989898\n",
      "Payment options available are credit card, debit card and UPI\n"
     ]
    }
   ],
   "source": [
    "payment_details(\"Mohit\", \"A/B D-Block\", 9898989898) # Arguments"
   ]
  },
  {
   "cell_type": "code",
   "execution_count": 5,
   "metadata": {},
   "outputs": [
    {
     "name": "stdout",
     "output_type": "stream",
     "text": [
      "Name: Mohit  Address of the user is: D-C B Block Phone number is:  9999999999\n",
      "Payment options available are credit card, debit card and UPI\n"
     ]
    }
   ],
   "source": [
    "payment_details(\"Mohit\", \"D-C B Block\", 9999999999)"
   ]
  },
  {
   "cell_type": "markdown",
   "metadata": {},
   "source": [
    "Calculate square"
   ]
  },
  {
   "cell_type": "code",
   "execution_count": 27,
   "metadata": {},
   "outputs": [
    {
     "data": {
      "text/plain": [
       "81"
      ]
     },
     "execution_count": 27,
     "metadata": {},
     "output_type": "execute_result"
    }
   ],
   "source": [
    "def calculate_square(num):\n",
    "    return num * num\n",
    "    # print(\"Square value is\", num * num)\n",
    "calculate_square(9)"
   ]
  },
  {
   "cell_type": "code",
   "execution_count": 28,
   "metadata": {},
   "outputs": [
    {
     "data": {
      "text/plain": [
       "25"
      ]
     },
     "execution_count": 28,
     "metadata": {},
     "output_type": "execute_result"
    }
   ],
   "source": [
    "calculate_square(5)"
   ]
  },
  {
   "cell_type": "code",
   "execution_count": 7,
   "metadata": {},
   "outputs": [
    {
     "name": "stdout",
     "output_type": "stream",
     "text": [
      "Square value is 100\n"
     ]
    }
   ],
   "source": [
    "calculate_square(10)"
   ]
  },
  {
   "cell_type": "code",
   "execution_count": 42,
   "metadata": {},
   "outputs": [
    {
     "name": "stdout",
     "output_type": "stream",
     "text": [
      "Name: Mohit  Address of the user is: Ballia Phone number is:  989898989\n",
      "Name: Mohit  Address of the user is: Ballia Phone number is:  9898989\n"
     ]
    }
   ],
   "source": [
    "def payment_details(name, address, phone): #Parameter \n",
    "    print(\"Name:\", name, \" Address of the user is:\", address, \"Phone number is: \", phone)\n",
    "    return \"debit card\", \"UPI\"\n",
    "payment_details(\"Mohit\" , \"Ballia\", 989898989)\n",
    "payment_option1 ,payment_option2 = payment_details(\"Mohit\" , \"Ballia\", 9898989)"
   ]
  },
  {
   "cell_type": "code",
   "execution_count": null,
   "metadata": {},
   "outputs": [
    {
     "data": {
      "text/plain": [
       "'debit card'"
      ]
     },
     "execution_count": 43,
     "metadata": {},
     "output_type": "execute_result"
    }
   ],
   "source": [
    "payment_option1 # Return keyword statement"
   ]
  },
  {
   "cell_type": "code",
   "execution_count": 44,
   "metadata": {},
   "outputs": [
    {
     "data": {
      "text/plain": [
       "'UPI'"
      ]
     },
     "execution_count": 44,
     "metadata": {},
     "output_type": "execute_result"
    }
   ],
   "source": [
    "payment_option2"
   ]
  },
  {
   "cell_type": "markdown",
   "metadata": {},
   "source": [
    "Check Prime number with Function"
   ]
  },
  {
   "cell_type": "code",
   "execution_count": null,
   "metadata": {},
   "outputs": [
    {
     "data": {
      "text/plain": [
       "False"
      ]
     },
     "execution_count": 46,
     "metadata": {},
     "output_type": "execute_result"
    }
   ],
   "source": [
    "def check_prime(num):\n",
    "    b = True\n",
    "    for i in range(2,num):\n",
    "        if num % i == 0:\n",
    "            b = False\n",
    "    \n",
    "    return b\n",
    "\n",
    "check_prime(28)"
   ]
  },
  {
   "cell_type": "markdown",
   "metadata": {},
   "source": [
    "Problem statement\n",
    "\n",
    "What will be the output of the following Python code?\n",
    "\n",
    "def functionA():\n",
    "\n",
    "    print(\"Entering functionA\")\n",
    "    functionB()\n",
    "    print(\"Exiting functionA\")\n",
    "\n",
    "def functionB():\n",
    "\n",
    "    print(\"Entering functionB\")\n",
    "    functionC()\n",
    "    print(\"Exiting functionB\")\n",
    "\n",
    "def functionC():\n",
    "\n",
    "    print(\"Entering functionC\")\n",
    "    print(\"Exiting functionC\")\n",
    "\n",
    "functionA()"
   ]
  },
  {
   "cell_type": "code",
   "execution_count": 3,
   "metadata": {},
   "outputs": [
    {
     "name": "stdout",
     "output_type": "stream",
     "text": [
      "Entering functionA\n",
      "Entering functionB\n",
      "Entering functionC\n",
      "Exiting functionC\n",
      "Exiting functionB\n",
      "Exiting functionA\n"
     ]
    }
   ],
   "source": [
    "\n",
    "\n",
    "def functionA():\n",
    "    print(\"Entering functionA\")\n",
    "    functionB()\n",
    "    print(\"Exiting functionA\")\n",
    "\n",
    "def functionB():\n",
    "    print(\"Entering functionB\")\n",
    "    functionC()\n",
    "    print(\"Exiting functionB\")\n",
    "\n",
    "def functionC():\n",
    "    print(\"Entering functionC\")\n",
    "    print(\"Exiting functionC\")\n",
    "\n",
    "functionA()"
   ]
  },
  {
   "cell_type": "markdown",
   "metadata": {},
   "source": [
    "Problem statement\n",
    "\n",
    "What will be the output of following code?\n"
   ]
  },
  {
   "cell_type": "code",
   "execution_count": null,
   "metadata": {},
   "outputs": [
    {
     "name": "stdout",
     "output_type": "stream",
     "text": [
      "14\n"
     ]
    }
   ],
   "source": [
    "a = 14\n",
    "def f():\n",
    "    a=10 # Local varibale\n",
    "f()\n",
    "print(a)  # Global variable"
   ]
  },
  {
   "cell_type": "markdown",
   "metadata": {},
   "source": [
    "Problem statement\n",
    "\n",
    "What will be the output of following code?\n"
   ]
  },
  {
   "cell_type": "code",
   "execution_count": null,
   "metadata": {},
   "outputs": [
    {
     "name": "stdout",
     "output_type": "stream",
     "text": [
      "12\n"
     ]
    }
   ],
   "source": [
    "a = 14\n",
    "def f():\n",
    "    a = 12\n",
    "    return a\n",
    "a = f()\n",
    "print(a)"
   ]
  },
  {
   "cell_type": "code",
   "execution_count": 1,
   "metadata": {},
   "outputs": [
    {
     "name": "stdout",
     "output_type": "stream",
     "text": [
      "Starting to make a payment through UPI on 04/10/2024\n",
      "Payment complete\n"
     ]
    }
   ],
   "source": [
    "def make_payment_through(date_of_payment= \"04/10/2024\", payment_mode=\"UPI\"):\n",
    "    print(\"Starting to make a payment through\", payment_mode, \"on\", date_of_payment)\n",
    "    print(\"Payment complete\")\n",
    "\n",
    "make_payment_through()"
   ]
  },
  {
   "cell_type": "markdown",
   "metadata": {},
   "source": [
    "Problem statement\n",
    "\n",
    "What will the output of the following code?\n"
   ]
  },
  {
   "cell_type": "code",
   "execution_count": 45,
   "metadata": {},
   "outputs": [
    {
     "ename": "SyntaxError",
     "evalue": "parameter without a default follows parameter with a default (2714887433.py, line 4)",
     "output_type": "error",
     "traceback": [
      "\u001b[1;36m  Cell \u001b[1;32mIn[45], line 4\u001b[1;36m\u001b[0m\n\u001b[1;33m    def function(a,b=10,c):\u001b[0m\n\u001b[1;37m                        ^\u001b[0m\n\u001b[1;31mSyntaxError\u001b[0m\u001b[1;31m:\u001b[0m parameter without a default follows parameter with a default\n"
     ]
    }
   ],
   "source": [
    "# Problem statement\n",
    "# What will the output of the following code?\n",
    "\n",
    "def function(a,b=10,c):\n",
    "    return a+b-c\n",
    "value = function(10,12)\n",
    "print(value)"
   ]
  },
  {
   "cell_type": "code",
   "execution_count": 6,
   "metadata": {},
   "outputs": [
    {
     "name": "stdout",
     "output_type": "stream",
     "text": [
      "17\n"
     ]
    }
   ],
   "source": [
    "\n",
    "def function(a,b=10,c=5):\n",
    "    return a+b-c\n",
    "value = function(10,12)\n",
    "print(value)"
   ]
  },
  {
   "cell_type": "code",
   "execution_count": 9,
   "metadata": {},
   "outputs": [
    {
     "name": "stdout",
     "output_type": "stream",
     "text": [
      "21\n"
     ]
    }
   ],
   "source": [
    "def function(a,b,c=1):\n",
    "    return a+b-c\n",
    "value = function(10,12)\n",
    "print(value)"
   ]
  },
  {
   "cell_type": "markdown",
   "metadata": {},
   "source": [
    "Problem statement\n",
    "\n",
    "What will the output of the following code?\n"
   ]
  },
  {
   "cell_type": "code",
   "execution_count": 10,
   "metadata": {},
   "outputs": [
    {
     "name": "stdout",
     "output_type": "stream",
     "text": [
      "11\n"
     ]
    }
   ],
   "source": [
    "def function(a,b,c=1,d=5):\n",
    "    return a+b+c+d\n",
    "value = function(1,2,d=7)\n",
    "print(value)"
   ]
  },
  {
   "cell_type": "markdown",
   "metadata": {},
   "source": [
    "Args and Kwargs"
   ]
  },
  {
   "cell_type": "code",
   "execution_count": 48,
   "metadata": {},
   "outputs": [
    {
     "name": "stdout",
     "output_type": "stream",
     "text": [
      "(10, 20, 30)\n"
     ]
    }
   ],
   "source": [
    "def num(*numbers):\n",
    "    print(numbers)\n",
    "num(10,20,30)"
   ]
  },
  {
   "cell_type": "code",
   "execution_count": 49,
   "metadata": {},
   "outputs": [
    {
     "name": "stdout",
     "output_type": "stream",
     "text": [
      "19\n"
     ]
    }
   ],
   "source": [
    "def sum_of_numbers(*numbers):\n",
    "    print(sum(numbers))  # Sum is inbuilt function\n",
    "\n",
    "sum_of_numbers(10,3,6)"
   ]
  },
  {
   "cell_type": "code",
   "execution_count": 56,
   "metadata": {},
   "outputs": [
    {
     "name": "stdout",
     "output_type": "stream",
     "text": [
      "Name Mohit\n",
      "Age 20\n"
     ]
    }
   ],
   "source": [
    "def value(**kwargs):\n",
    "    for key, value in kwargs.items():\n",
    "        print(key, value)\n",
    "value(Name = \"Mohit\", Age = 20)"
   ]
  },
  {
   "cell_type": "code",
   "execution_count": 51,
   "metadata": {},
   "outputs": [
    {
     "name": "stdout",
     "output_type": "stream",
     "text": [
      "{'Name': 'Mohit', 'Company': 'Preparing', 'Age': 20}\n"
     ]
    }
   ],
   "source": [
    "def print_details(**details):\n",
    "    print(details)\n",
    "\n",
    "print_details(Name=\"Mohit\",Company=\"Preparing\", Age=20)\n"
   ]
  },
  {
   "cell_type": "markdown",
   "metadata": {},
   "source": [
    "Problem statement\n",
    "\n",
    "You are given a number 'n'. Return \"true\" if the given number is a palindrome or \"false\" otherwise.\n",
    "\n",
    "\n",
    "\n",
    "Note:\n",
    "You don’t need to print anything, it has already been taken care of, just complete the given function. “true” will be printed if the returned value is \"true \"and “false” otherwise."
   ]
  },
  {
   "cell_type": "code",
   "execution_count": 104,
   "metadata": {},
   "outputs": [
    {
     "data": {
      "text/plain": [
       "False"
      ]
     },
     "execution_count": 104,
     "metadata": {},
     "output_type": "execute_result"
    }
   ],
   "source": [
    "def check_palindrome(p):\n",
    "    p = str(p) #converting into string\n",
    "    for i in range(len(p) // 2):\n",
    "        if p[i] != p[-i - 1]:\n",
    "            return False\n",
    "    return True\n",
    "    \n",
    "check_palindrome(12345)"
   ]
  },
  {
   "cell_type": "code",
   "execution_count": 110,
   "metadata": {},
   "outputs": [
    {
     "data": {
      "text/plain": [
       "True"
      ]
     },
     "execution_count": 110,
     "metadata": {},
     "output_type": "execute_result"
    }
   ],
   "source": [
    "check_palindrome(\"radar\")"
   ]
  },
  {
   "cell_type": "code",
   "execution_count": 105,
   "metadata": {},
   "outputs": [
    {
     "data": {
      "text/plain": [
       "True"
      ]
     },
     "execution_count": 105,
     "metadata": {},
     "output_type": "execute_result"
    }
   ],
   "source": [
    "check_palindrome(\"nitin\")"
   ]
  },
  {
   "cell_type": "code",
   "execution_count": 3,
   "metadata": {},
   "outputs": [
    {
     "data": {
      "text/plain": [
       "False"
      ]
     },
     "execution_count": 3,
     "metadata": {},
     "output_type": "execute_result"
    }
   ],
   "source": [
    "check_palindrome(\"Mohit\")"
   ]
  },
  {
   "cell_type": "markdown",
   "metadata": {},
   "source": [
    "Second Method for Palindrome"
   ]
  },
  {
   "cell_type": "markdown",
   "metadata": {},
   "source": [
    "Reverse Number\n"
   ]
  },
  {
   "cell_type": "code",
   "execution_count": null,
   "metadata": {},
   "outputs": [
    {
     "data": {
      "text/plain": [
       "1234321"
      ]
     },
     "execution_count": 62,
     "metadata": {},
     "output_type": "execute_result"
    }
   ],
   "source": [
    "def reverse(n):\n",
    "    reverse_num = 0\n",
    "    for digit in str(n):\n",
    "        reverse_num = int(digit) + reverse_num * 10\n",
    "    return reverse_num\n",
    "reverse(1234321)"
   ]
  },
  {
   "cell_type": "markdown",
   "metadata": {},
   "source": [
    "Then palindrome"
   ]
  },
  {
   "cell_type": "code",
   "execution_count": null,
   "metadata": {},
   "outputs": [
    {
     "data": {
      "text/plain": [
       "True"
      ]
     },
     "execution_count": 84,
     "metadata": {},
     "output_type": "execute_result"
    }
   ],
   "source": [
    "def palindrome_check(n):\n",
    "    if reverse(n) == n:\n",
    "        return True\n",
    "    return False\n",
    "palindrome_check(12321) # only for integer"
   ]
  },
  {
   "cell_type": "markdown",
   "metadata": {},
   "source": [
    "Problem statement\n",
    "\n",
    "You are given an integer 'n'. Return 'true' if 'n' is an Armstrong number, and 'false' otherwise.\n",
    "\n",
    "\n",
    "An Armstrong number is a number (with 'k' digits) such that the sum of its digits raised to 'kth' power is equal to the number itself. For example, 371 is an Armstrong number because 3^3 + 7^3 + 1^3 = 371."
   ]
  },
  {
   "cell_type": "code",
   "execution_count": 1,
   "metadata": {},
   "outputs": [
    {
     "data": {
      "text/plain": [
       "True"
      ]
     },
     "execution_count": 1,
     "metadata": {},
     "output_type": "execute_result"
    }
   ],
   "source": [
    "def check_armstrong(num):\n",
    "    s = 0\n",
    "    for i in str(num):\n",
    "        s += int(i) ** len(str(num))\n",
    "    if s == num:\n",
    "        return True\n",
    "    else:\n",
    "        return False\n",
    "    \n",
    "check_armstrong(153)\n"
   ]
  },
  {
   "cell_type": "code",
   "execution_count": 134,
   "metadata": {},
   "outputs": [
    {
     "data": {
      "text/plain": [
       "True"
      ]
     },
     "execution_count": 134,
     "metadata": {},
     "output_type": "execute_result"
    }
   ],
   "source": [
    "def check_armstrong(num):\n",
    "    s = 0\n",
    "    for i in str(num):\n",
    "        s += int(i) ** len(str(num))\n",
    "    if s == num:\n",
    "        return True\n",
    "    else:\n",
    "        return False\n",
    "    \n",
    "check_armstrong(153)\n"
   ]
  },
  {
   "cell_type": "markdown",
   "metadata": {},
   "source": [
    "Assignment"
   ]
  },
  {
   "cell_type": "markdown",
   "metadata": {},
   "source": [
    "Problem statement\n",
    "\n",
    "Given an integer n, find and Return the factorial of the given integer.\n",
    "\n",
    "\n",
    "\n",
    "Notes:\n",
    "The Factorial of a whole number 'n' is defined as the product of that number with every whole number less than or equal to 'n' till 1.\n",
    "For example, the factorial of 4 is 4 × 3 × 2 × 1, which is equal to 24."
   ]
  },
  {
   "cell_type": "code",
   "execution_count": 146,
   "metadata": {},
   "outputs": [
    {
     "name": "stdout",
     "output_type": "stream",
     "text": [
      "1\n",
      "2\n",
      "6\n",
      "24\n"
     ]
    }
   ],
   "source": [
    "def factorial(num):\n",
    "    f = 1\n",
    "    for i in range(1,num+1):\n",
    "        f = f*i\n",
    "        print(f)\n",
    "factorial(4)\n"
   ]
  },
  {
   "cell_type": "markdown",
   "metadata": {},
   "source": [
    "Problem statement\n",
    "\n",
    "Your task is to write a function named print_composite that prints if there are any composite numbers up to a given number, n.\n",
    "\n",
    "\n",
    "\n",
    "Composite numbers are positive integers greater than 1 that have more than two positive divisors. In other words, a composite number has factors other than 1 and itself."
   ]
  },
  {
   "cell_type": "code",
   "execution_count": 9,
   "metadata": {},
   "outputs": [
    {
     "name": "stdout",
     "output_type": "stream",
     "text": [
      "4 \n",
      "\n",
      "6 \n",
      "\n",
      "8 \n",
      "9 \n",
      "10 \n"
     ]
    }
   ],
   "source": [
    "def is_prime(n):\n",
    "    if n <= 1:\n",
    "        return False  # Numbers less than or equal to 1 are not prime\n",
    "    for i in range(2, int(n ** 0.5) + 1):  # Check divisors up to the square root of n\n",
    "        if n % i == 0:\n",
    "            return False  # If divisible by any number other than 1 and itself, it's not prime\n",
    "    return True  # If no divisors found, it's prime\n",
    "\n",
    "def print_composite(n):\n",
    "    found = False\n",
    "    for i in range(4, n + 1):  # Start from 4 because 2 and 3 are prime\n",
    "        if not is_prime(i):  # If the number is not prime, it is composite\n",
    "            print(i, end=\" \")\n",
    "            found = True\n",
    "        print()\n",
    "    if not found:\n",
    "        print(\"No composite numbers found up to\", n)\n",
    "\n",
    "# Example usage\n",
    "print_composite(10)\n"
   ]
  },
  {
   "cell_type": "markdown",
   "metadata": {},
   "source": [
    "Problem statement\n",
    "\n",
    "Create a function that determines whether a given number N belongs to the Fibonacci sequence. If N is found in the Fibonacci sequence, the function should return true; otherwise, it should return false.\n",
    "\n"
   ]
  },
  {
   "cell_type": "code",
   "execution_count": 78,
   "metadata": {},
   "outputs": [
    {
     "name": "stdout",
     "output_type": "stream",
     "text": [
      "True\n",
      "False\n",
      "True\n",
      "False\n"
     ]
    }
   ],
   "source": [
    "def checkMember(n):\n",
    "    # Initial Fibonacci numbers\n",
    "    sl = 0  # second last number\n",
    "    ln = 1  # last number\n",
    "\n",
    "    # Generate Fibonacci numbers until we exceed n\n",
    "    while sl <= n:\n",
    "        if sl == n:  # If we find n in the Fibonacci sequence, return True\n",
    "            return True\n",
    "        # Generate the next Fibonacci number\n",
    "        nn = sl + ln\n",
    "        sl = ln  # Move to the next Fibonacci number\n",
    "        ln = nn\n",
    "    return False  # If we exceed n without finding it, return False\n",
    "\n",
    "# Example usage\n",
    "print(checkMember(5))   # Output: True (5 is a Fibonacci number)\n",
    "print(checkMember(6))   # Output: False (6 is not a Fibonacci number)\n",
    "print(checkMember(13))  # Output: True (13 is a Fibonacci number)\n",
    "print(checkMember(14))  # Output: False (14 is not a Fibonacci number)\n"
   ]
  },
  {
   "cell_type": "markdown",
   "metadata": {},
   "source": [
    "Problem statement\n",
    "\n",
    "Given two numbers, x, and y, calculate and Return their GCD.\n",
    "\n",
    "GCD stands for \"Greatest Common Divisor.\" It refers to the largest positive integer that divides two or more numbers without leaving a remainder. "
   ]
  },
  {
   "cell_type": "code",
   "execution_count": 89,
   "metadata": {},
   "outputs": [
    {
     "data": {
      "text/plain": [
       "4"
      ]
     },
     "execution_count": 89,
     "metadata": {},
     "output_type": "execute_result"
    }
   ],
   "source": [
    "def find_GCD(a, b):\n",
    "    gcd = 1\n",
    "    for i in range(1, min(a,b) + 1):\n",
    "        if a % i == 0 and b % i == 0:\n",
    "            gcd = i\n",
    "    return gcd\n",
    "find_GCD(96,28)"
   ]
  },
  {
   "cell_type": "code",
   "execution_count": 90,
   "metadata": {},
   "outputs": [
    {
     "data": {
      "text/plain": [
       "4"
      ]
     },
     "execution_count": 90,
     "metadata": {},
     "output_type": "execute_result"
    }
   ],
   "source": [
    "find_GCD(96,28)"
   ]
  }
 ],
 "metadata": {
  "kernelspec": {
   "display_name": "Python 3",
   "language": "python",
   "name": "python3"
  },
  "language_info": {
   "codemirror_mode": {
    "name": "ipython",
    "version": 3
   },
   "file_extension": ".py",
   "mimetype": "text/x-python",
   "name": "python",
   "nbconvert_exporter": "python",
   "pygments_lexer": "ipython3",
   "version": "3.12.4"
  }
 },
 "nbformat": 4,
 "nbformat_minor": 2
}
