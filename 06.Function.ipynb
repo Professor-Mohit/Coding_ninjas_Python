{
 "cells": [
  {
   "cell_type": "markdown",
   "metadata": {},
   "source": [
    "Parameter and Arguments in Function"
   ]
  },
  {
   "cell_type": "code",
   "execution_count": 1,
   "metadata": {},
   "outputs": [],
   "source": [
    "def payment_details(name, address, phone):\n",
    "    print(\"Name:\", name, \" Address of the user is:\", address, \"Phone number is: \", phone)\n",
    "    print(\"Payment options available are credit card, debit card and UPI\")\n"
   ]
  },
  {
   "cell_type": "code",
   "execution_count": 3,
   "metadata": {},
   "outputs": [
    {
     "name": "stdout",
     "output_type": "stream",
     "text": [
      "Name: Sanket  Address of the user is: A/B D-Block Phone number is:  9898989898\n",
      "Payment options available are credit card, debit card and UPI\n"
     ]
    }
   ],
   "source": [
    "payment_details(\"Sanket\", \"A/B D-Block\", 9898989898)"
   ]
  },
  {
   "cell_type": "code",
   "execution_count": 4,
   "metadata": {},
   "outputs": [
    {
     "name": "stdout",
     "output_type": "stream",
     "text": [
      "Name: Sarthak  Address of the user is: D-C B Block Phone number is:  9999999999\n",
      "Payment options available are credit card, debit card and UPI\n"
     ]
    }
   ],
   "source": [
    "payment_details(\"Sarthak\", \"D-C B Block\", 9999999999)"
   ]
  },
  {
   "cell_type": "markdown",
   "metadata": {},
   "source": []
  }
 ],
 "metadata": {
  "kernelspec": {
   "display_name": "Python 3",
   "language": "python",
   "name": "python3"
  },
  "language_info": {
   "codemirror_mode": {
    "name": "ipython",
    "version": 3
   },
   "file_extension": ".py",
   "mimetype": "text/x-python",
   "name": "python",
   "nbconvert_exporter": "python",
   "pygments_lexer": "ipython3",
   "version": "3.12.4"
  }
 },
 "nbformat": 4,
 "nbformat_minor": 2
}
