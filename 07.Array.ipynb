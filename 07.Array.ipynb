{
 "cells": [
  {
   "cell_type": "markdown",
   "metadata": {},
   "source": [
    "Array\n"
   ]
  },
  {
   "cell_type": "markdown",
   "metadata": {},
   "source": [
    "What's the output for this statement ?\n"
   ]
  },
  {
   "cell_type": "code",
   "execution_count": 1,
   "metadata": {},
   "outputs": [
    {
     "name": "stdout",
     "output_type": "stream",
     "text": [
      "array('i', [1, 2, 3, 5, 10])\n"
     ]
    }
   ],
   "source": [
    "# Problem statement\n",
    "import array \n",
    "\n",
    "a = array.array('i',[1,2,3,4,5])\n",
    "\n",
    "a.append(10)\n",
    "\n",
    "a.append(20)\n",
    "\n",
    "a.pop(3)\n",
    "\n",
    "a.pop()\n",
    "\n",
    "print(a)"
   ]
  },
  {
   "cell_type": "markdown",
   "metadata": {},
   "source": [
    "Creating lists"
   ]
  },
  {
   "cell_type": "code",
   "execution_count": 12,
   "metadata": {},
   "outputs": [
    {
     "name": "stdout",
     "output_type": "stream",
     "text": [
      "array('i', [1, 2, 3, 4]) <class 'array.array'>\n",
      "[1, 2, 3, 4] <class 'list'>\n"
     ]
    }
   ],
   "source": [
    "import array as arr\n",
    "my_array = arr.array('i',[1,2,3,4])\n",
    "print(my_array, type(my_array))\n",
    "\n",
    "my_list = list(my_array)\n",
    "print(my_list , type(my_list))"
   ]
  },
  {
   "cell_type": "code",
   "execution_count": 17,
   "metadata": {},
   "outputs": [
    {
     "name": "stdout",
     "output_type": "stream",
     "text": [
      "10\n",
      "10\n",
      "<class 'int'>\n",
      "<class 'list'>\n"
     ]
    }
   ],
   "source": [
    "marks = [1,2,3,4]\n",
    "tot = 0\n",
    "for num in marks:\n",
    "    tot = tot + num\n",
    "print(tot)\n",
    "\n",
    "tot2 = 0\n",
    "for i in range(len(marks)):\n",
    "    tot2 += marks[i]\n",
    "print(tot2)\n",
    "print(type(tot2))\n",
    "print(type(marks))"
   ]
  },
  {
   "cell_type": "markdown",
   "metadata": {},
   "source": [
    "Problem Statement"
   ]
  },
  {
   "cell_type": "code",
   "execution_count": 19,
   "metadata": {},
   "outputs": [
    {
     "name": "stdout",
     "output_type": "stream",
     "text": [
      "['abcd', 'def', 5]\n"
     ]
    }
   ],
   "source": [
    "li =['abcd', 'def']\n",
    "li.insert(4,5)\n",
    "print(li)"
   ]
  },
  {
   "cell_type": "markdown",
   "metadata": {},
   "source": [
    "Problem Stataement"
   ]
  },
  {
   "cell_type": "code",
   "execution_count": 20,
   "metadata": {},
   "outputs": [
    {
     "name": "stdout",
     "output_type": "stream",
     "text": [
      "['abcd', 'def', 5]\n"
     ]
    }
   ],
   "source": [
    "li = [\"abcd\", 5, \"def\", 5]\n",
    "li.remove(5)\n",
    "print(li)"
   ]
  },
  {
   "cell_type": "markdown",
   "metadata": {},
   "source": [
    "Problem statement"
   ]
  },
  {
   "cell_type": "code",
   "execution_count": null,
   "metadata": {},
   "outputs": [
    {
     "name": "stdout",
     "output_type": "stream",
     "text": [
      "['1', '2', '3', '4', '5']\n"
     ]
    }
   ],
   "source": [
    "# What will be the output of code if following input is provided to the code below?\n",
    "\n",
    "# Input:\n",
    "# 5\n",
    "# 1\n",
    "# 2 \n",
    "# 3 \n",
    "# 4 \n",
    "# 5\n",
    "# Code:\n",
    "\n",
    "n = int(input())\n",
    "li = []\n",
    "for i in range(n):\n",
    "    li.append(input()) \n",
    "print(li)"
   ]
  },
  {
   "cell_type": "markdown",
   "metadata": {},
   "source": [
    "# Slicing"
   ]
  },
  {
   "cell_type": "code",
   "execution_count": null,
   "metadata": {},
   "outputs": [
    {
     "name": "stdout",
     "output_type": "stream",
     "text": [
      "[2, 3, 4, 5]\n"
     ]
    }
   ],
   "source": [
    "nums = [1,2,3,4,5,6]\n",
    "nums2 = []\n",
    "\n",
    "# no the good way to slicing\n",
    "for i in range (1,len(nums)-1):\n",
    "    nums2.append(nums[i])\n",
    "print(nums2)"
   ]
  },
  {
   "cell_type": "code",
   "execution_count": 62,
   "metadata": {},
   "outputs": [
    {
     "name": "stdout",
     "output_type": "stream",
     "text": [
      "[2, 3, 4, 5]\n"
     ]
    }
   ],
   "source": [
    "nums = [1,2,3,4,5,6]\n",
    "# nums2 = []\n",
    "nums2 = nums[1:5]\n",
    "# nums2 = nums[:5]\n",
    "\n",
    "print(nums2)"
   ]
  },
  {
   "cell_type": "code",
   "execution_count": 73,
   "metadata": {},
   "outputs": [
    {
     "name": "stdout",
     "output_type": "stream",
     "text": [
      "[1, 2, 3, 4]\n"
     ]
    }
   ],
   "source": [
    "nums2 = nums[:4]\n",
    "print(nums2)"
   ]
  },
  {
   "cell_type": "markdown",
   "metadata": {},
   "source": [
    "Problem Statement"
   ]
  },
  {
   "cell_type": "code",
   "execution_count": 74,
   "metadata": {},
   "outputs": [
    {
     "name": "stdout",
     "output_type": "stream",
     "text": [
      "2 3 4 "
     ]
    }
   ],
   "source": [
    "# What will be the output of following code?\n",
    "\n",
    "li = [1,2,3,4,5]\n",
    "for i in li[1:4]:\n",
    "    print(i,end= ' ')"
   ]
  },
  {
   "cell_type": "markdown",
   "metadata": {},
   "source": [
    "Finding Maximum Number"
   ]
  },
  {
   "cell_type": "code",
   "execution_count": 90,
   "metadata": {},
   "outputs": [
    {
     "name": "stdout",
     "output_type": "stream",
     "text": [
      "9\n"
     ]
    }
   ],
   "source": [
    "all_num = list(map(int, input().split()))  # Taking list of integer in input\n",
    "max_num = all_num[0]  # Initialize max_num with the first number in the list\n",
    "\n",
    "for nums in all_num:  # Iterate through all numbers in the list\n",
    "    max_num = max(nums, max_num)  # Compare each number with max_num to find the maximum\n",
    "\n",
    "print(max_num)  # Print the maximum number\n"
   ]
  },
  {
   "cell_type": "markdown",
   "metadata": {},
   "source": [
    "Minimum number"
   ]
  },
  {
   "cell_type": "code",
   "execution_count": null,
   "metadata": {},
   "outputs": [
    {
     "name": "stdout",
     "output_type": "stream",
     "text": [
      "1\n"
     ]
    }
   ],
   "source": [
    "all_num = list(map(int, input().split())) # Taking list of integer in input\n",
    "min_num = all_num[0]  # Initialize min_num with the first number in the list\n",
    "\n",
    "for nums in all_num:  # Iterate through all numbers in the list\n",
    "    min_num = min(nums, min_num)  # Compare each number with min_num to find the minimum\n",
    "\n",
    "print(min_num)  # Print the maximum number\n"
   ]
  },
  {
   "cell_type": "markdown",
   "metadata": {},
   "source": [
    "Pint Array sum"
   ]
  },
  {
   "cell_type": "code",
   "execution_count": 1,
   "metadata": {},
   "outputs": [
    {
     "name": "stdout",
     "output_type": "stream",
     "text": [
      "15\n"
     ]
    }
   ],
   "source": [
    "num = int(input())\n",
    "add = list(map(int,input().split()))\n",
    "sum = 0\n",
    "for i in add:\n",
    "    sum += i\n",
    "print(sum)"
   ]
  },
  {
   "cell_type": "markdown",
   "metadata": {},
   "source": [
    "Palindrome"
   ]
  },
  {
   "cell_type": "code",
   "execution_count": 26,
   "metadata": {},
   "outputs": [
    {
     "name": "stdout",
     "output_type": "stream",
     "text": [
      "Palindrome\n"
     ]
    }
   ],
   "source": [
    "nums = list(map(int,input().split()))\n",
    "# nums = int(input())\n",
    "revese_num = nums[::-1]\n",
    "is_palindrome = True\n",
    "for i in range(len(nums)):\n",
    "    if nums[i] != revese_num[i]:\n",
    "        is_palindrome = False\n",
    "        break\n",
    "if is_palindrome:\n",
    "    print(\"Palindrome\")\n",
    "else:\n",
    "    print(\"Not a Palindrome\")"
   ]
  },
  {
   "cell_type": "code",
   "execution_count": 29,
   "metadata": {},
   "outputs": [
    {
     "name": "stdout",
     "output_type": "stream",
     "text": [
      "Palindrome\n"
     ]
    }
   ],
   "source": [
    "nums = list(map(int,input().split()))\n",
    "l = len(nums)\n",
    "left = 0\n",
    "right = len(nums) - 1\n",
    "is_palindrome = True\n",
    "\n",
    "while left <= l/2:\n",
    "    if nums[left] != nums[right]:\n",
    "        is_palindrome = False\n",
    "    left += 1\n",
    "    right -= 1\n",
    "if is_palindrome:\n",
    "    print(\"Palindrome\")\n",
    "else:\n",
    "    print(\"Not a palindrome\")"
   ]
  },
  {
   "cell_type": "markdown",
   "metadata": {},
   "source": [
    "Rearrange Number"
   ]
  },
  {
   "cell_type": "code",
   "execution_count": null,
   "metadata": {},
   "outputs": [
    {
     "name": "stdout",
     "output_type": "stream",
     "text": [
      "[78, 70, 20, 85, 11, 45]\n"
     ]
    }
   ],
   "source": [
    "def arrange_num(arr):\n",
    "    first_num = 0\n",
    "    for i in range(len(arr)):\n",
    "        if arr[i] % 2 == 0:\n",
    "            arr[i], arr[first_num] = arr[first_num], arr[i]\n",
    "            first_num += 1\n",
    "    print(arr)\n",
    "\n",
    "    # arranging even to odd \n",
    "\n",
    "arr = [11, 78, 45, 85, 70 ,20]\n",
    "arrange_num(arr)"
   ]
  },
  {
   "cell_type": "markdown",
   "metadata": {},
   "source": [
    "# Swap Alternative"
   ]
  },
  {
   "cell_type": "markdown",
   "metadata": {},
   "source": [
    "Problem statement\n",
    "\n",
    "\n",
    "You have been given an array/list(ARR) of size N. You need to swap every pair of alternate elements in the array/list.\n",
    "\n",
    "You don't need to print or return anything, just change in the input array itself."
   ]
  },
  {
   "cell_type": "code",
   "execution_count": null,
   "metadata": {},
   "outputs": [],
   "source": [
    "def swapAlternate(arr, n) :\n",
    "    #Your code goes here\n",
    "    if n%2 !=0:\n",
    "        n-=1\n",
    "    \n",
    "    for i in range(1,n+1,2):\n",
    "        arr[i-1],arr[i] = arr[i],arr[i-1]\n",
    "\n",
    "    return(arr)"
   ]
  },
  {
   "cell_type": "markdown",
   "metadata": {},
   "source": [
    "Problem statement\n",
    "\n",
    "You have been given an empty array(ARR) and its size N. The only input taken from the user will be N and you need not worry about the array.\n",
    "\n",
    "Your task is to populate the array using the integer values in the range 1 to N(both inclusive) in the order - 1,3,5,.......,6,4,2.\n",
    "\n"
   ]
  },
  {
   "cell_type": "code",
   "execution_count": 46,
   "metadata": {},
   "outputs": [
    {
     "name": "stdout",
     "output_type": "stream",
     "text": [
      "Populated Array: [1, 3, 5, 7, 9, 10, 8, 6, 4, 2]\n"
     ]
    }
   ],
   "source": [
    "def populate_array(n):\n",
    "    # Create an empty array\n",
    "    arr = []\n",
    "\n",
    "    # Add odd numbers from 1 to n\n",
    "    for i in range(1, n + 1, 2):\n",
    "        arr.append(i)\n",
    "\n",
    "    # Add even numbers from n to 1\n",
    "    for i in range(n, 0, -1):\n",
    "        if i % 2 == 0:\n",
    "            arr.append(i)\n",
    "\n",
    "    # Print the populated array\n",
    "    print(\"Populated Array:\", arr)\n",
    "\n",
    "\n",
    "# Input size of the array\n",
    "n = int(input(\"Enter the size of the array (N): \"))\n",
    "populate_array(n)\n"
   ]
  },
  {
   "cell_type": "code",
   "execution_count": 61,
   "metadata": {},
   "outputs": [
    {
     "name": "stdout",
     "output_type": "stream",
     "text": [
      "[1, 3, 5, 7, 8, 6, 4, 2]\n"
     ]
    }
   ],
   "source": [
    "def arrange(arr, n) :\n",
    "    #Your code goes here\n",
    "    a = 1\n",
    "    if n%2!=0:\n",
    "        arr[n//2] = n\n",
    "    for i in range(0,n//2):\n",
    "        arr[i] = a\n",
    "        a+=1\n",
    "        arr[-(i+1)] = a\n",
    "        a+=1\n",
    "\n",
    "    return arr\n",
    "n = int(input()) # give the size of array example:- 6\n",
    "arr = [0] * n\n",
    "result = arrange(arr, n)\n",
    "print(result)"
   ]
  },
  {
   "cell_type": "markdown",
   "metadata": {},
   "source": [
    "Printing Sum of Pair"
   ]
  },
  {
   "cell_type": "code",
   "execution_count": 71,
   "metadata": {},
   "outputs": [
    {
     "data": {
      "text/plain": [
       "7"
      ]
     },
     "execution_count": 71,
     "metadata": {},
     "output_type": "execute_result"
    }
   ],
   "source": [
    "def pair_sum(arr, x):\n",
    "    tot = 0\n",
    "    for i in range(len(arr)):\n",
    "        left = arr[i]\n",
    "        right = x - left\n",
    "        for j in range(i+1,len(arr)):\n",
    "            if arr[j] == right:\n",
    "                tot += 1\n",
    "    return tot\n",
    "pair_sum([1,3,6,2,5,4,3,2,4],7)"
   ]
  },
  {
   "cell_type": "code",
   "execution_count": 78,
   "metadata": {},
   "outputs": [
    {
     "name": "stdout",
     "output_type": "stream",
     "text": [
      "Number of triplets with sum 9: 3\n"
     ]
    }
   ],
   "source": [
    "def findTriplet(arr, n, x) :\n",
    "    #Your code goes here\n",
    "    #return your answer\n",
    "    counter = 0\n",
    "    for i in range(0,n-2):\n",
    "        for j in range(i+1,n-1):\n",
    "            for k in range(j+1,n):\n",
    "                if arr[i]+arr[j]+arr[k] == x:\n",
    "                    counter += 1\n",
    "                    \n",
    "    return counter\n",
    "\n",
    "\n",
    "\n",
    "# Taking inputs\n",
    "n = int(input(\"Enter the size of the array: \"))  # Input for the size of the array\n",
    "arr = list(map(int, input(f\"Enter {n} integers separated by spaces: \").split()))  # Input array elements\n",
    "x = int(input(\"Enter the target sum (X): \"))  # Input for the target sum\n",
    "\n",
    "# Validate input length\n",
    "if len(arr) != n:\n",
    "    print(f\"Error: You must enter exactly {n} integers.\")\n",
    "else:\n",
    "    # Call the function and display the result\n",
    "    result = findTriplet(arr, n, x)\n",
    "    print(f\"Number of triplets with sum {x}: {result}\")"
   ]
  },
  {
   "cell_type": "markdown",
   "metadata": {},
   "source": [
    "# Assignment"
   ]
  },
  {
   "cell_type": "markdown",
   "metadata": {},
   "source": [
    "Problem Statement"
   ]
  },
  {
   "cell_type": "markdown",
   "metadata": {},
   "source": [
    "You have been given a random integer array/list(ARR) of size N, and an integer X. You need to search for the integer X in the given array/list using 'Linear Search'.\n",
    "\n",
    " You have been required to return the index at which X is present in the array/list. If X has multiple occurrences in the array/list, then you need to return the index at which the first occurrence of X would be encountered. In case X is not present in the array/list, then return -1.\n",
    "\n",
    "'Linear search' is a method for finding an element within an array/list. It sequentially checks each element of the array/list until a match is found or the whole array/list has been searched."
   ]
  },
  {
   "cell_type": "code",
   "execution_count": null,
   "metadata": {},
   "outputs": [],
   "source": [
    "def linear_search(arr, n , x):\n",
    "    for i in range(n):\n",
    "        if arr[i] == x:\n",
    "            return i\n",
    "        return -1\n",
    "\n",
    "    "
   ]
  },
  {
   "cell_type": "markdown",
   "metadata": {},
   "source": []
  }
 ],
 "metadata": {
  "kernelspec": {
   "display_name": "Python 3",
   "language": "python",
   "name": "python3"
  },
  "language_info": {
   "codemirror_mode": {
    "name": "ipython",
    "version": 3
   },
   "file_extension": ".py",
   "mimetype": "text/x-python",
   "name": "python",
   "nbconvert_exporter": "python",
   "pygments_lexer": "ipython3",
   "version": "3.12.4"
  }
 },
 "nbformat": 4,
 "nbformat_minor": 2
}
