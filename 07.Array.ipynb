{
 "cells": [
  {
   "cell_type": "markdown",
   "metadata": {},
   "source": [
    "Array\n"
   ]
  },
  {
   "cell_type": "markdown",
   "metadata": {},
   "source": [
    "What's the output for this statement ?\n"
   ]
  },
  {
   "cell_type": "code",
   "execution_count": 1,
   "metadata": {},
   "outputs": [
    {
     "name": "stdout",
     "output_type": "stream",
     "text": [
      "array('i', [1, 2, 3, 5, 10])\n"
     ]
    }
   ],
   "source": [
    "# Problem statement\n",
    "import array \n",
    "\n",
    "a = array.array('i',[1,2,3,4,5])\n",
    "\n",
    "a.append(10)\n",
    "\n",
    "a.append(20)\n",
    "\n",
    "a.pop(3)\n",
    "\n",
    "a.pop()\n",
    "\n",
    "print(a)"
   ]
  },
  {
   "cell_type": "markdown",
   "metadata": {},
   "source": [
    "Creating lists"
   ]
  },
  {
   "cell_type": "code",
   "execution_count": 12,
   "metadata": {},
   "outputs": [
    {
     "name": "stdout",
     "output_type": "stream",
     "text": [
      "array('i', [1, 2, 3, 4]) <class 'array.array'>\n",
      "[1, 2, 3, 4] <class 'list'>\n"
     ]
    }
   ],
   "source": [
    "import array as arr\n",
    "my_array = arr.array('i',[1,2,3,4])\n",
    "print(my_array, type(my_array))\n",
    "\n",
    "my_list = list(my_array)\n",
    "print(my_list , type(my_list))"
   ]
  },
  {
   "cell_type": "code",
   "execution_count": 17,
   "metadata": {},
   "outputs": [
    {
     "name": "stdout",
     "output_type": "stream",
     "text": [
      "10\n",
      "10\n",
      "<class 'int'>\n",
      "<class 'list'>\n"
     ]
    }
   ],
   "source": [
    "marks = [1,2,3,4]\n",
    "tot = 0\n",
    "for num in marks:\n",
    "    tot = tot + num\n",
    "print(tot)\n",
    "\n",
    "tot2 = 0\n",
    "for i in range(len(marks)):\n",
    "    tot2 += marks[i]\n",
    "print(tot2)\n",
    "print(type(tot2))\n",
    "print(type(marks))"
   ]
  },
  {
   "cell_type": "markdown",
   "metadata": {},
   "source": [
    "Problem Statement"
   ]
  },
  {
   "cell_type": "code",
   "execution_count": 19,
   "metadata": {},
   "outputs": [
    {
     "name": "stdout",
     "output_type": "stream",
     "text": [
      "['abcd', 'def', 5]\n"
     ]
    }
   ],
   "source": [
    "li =['abcd', 'def']\n",
    "li.insert(4,5)\n",
    "print(li)"
   ]
  },
  {
   "cell_type": "markdown",
   "metadata": {},
   "source": [
    "Problem Stataement"
   ]
  },
  {
   "cell_type": "code",
   "execution_count": 20,
   "metadata": {},
   "outputs": [
    {
     "name": "stdout",
     "output_type": "stream",
     "text": [
      "['abcd', 'def', 5]\n"
     ]
    }
   ],
   "source": [
    "li = [\"abcd\", 5, \"def\", 5]\n",
    "li.remove(5)\n",
    "print(li)"
   ]
  },
  {
   "cell_type": "markdown",
   "metadata": {},
   "source": [
    "Problem statement"
   ]
  },
  {
   "cell_type": "code",
   "execution_count": null,
   "metadata": {},
   "outputs": [
    {
     "name": "stdout",
     "output_type": "stream",
     "text": [
      "['1', '2', '3', '4', '5']\n"
     ]
    }
   ],
   "source": [
    "# What will be the output of code if following input is provided to the code below?\n",
    "\n",
    "# Input:\n",
    "# 5\n",
    "# 1\n",
    "# 2 \n",
    "# 3 \n",
    "# 4 \n",
    "# 5\n",
    "# Code:\n",
    "\n",
    "n = int(input())\n",
    "li = []\n",
    "for i in range(n):\n",
    "    li.append(input()) \n",
    "print(li)"
   ]
  },
  {
   "cell_type": "markdown",
   "metadata": {},
   "source": [
    "# Slicing"
   ]
  },
  {
   "cell_type": "code",
   "execution_count": null,
   "metadata": {},
   "outputs": [
    {
     "name": "stdout",
     "output_type": "stream",
     "text": [
      "[2, 3, 4, 5]\n"
     ]
    }
   ],
   "source": [
    "nums = [1,2,3,4,5,6]\n",
    "nums2 = []\n",
    "\n",
    "# no the good way to slicing\n",
    "for i in range (1,len(nums)-1):\n",
    "    nums2.append(nums[i])\n",
    "print(nums2)"
   ]
  },
  {
   "cell_type": "code",
   "execution_count": 62,
   "metadata": {},
   "outputs": [
    {
     "name": "stdout",
     "output_type": "stream",
     "text": [
      "[2, 3, 4, 5]\n"
     ]
    }
   ],
   "source": [
    "nums = [1,2,3,4,5,6]\n",
    "# nums2 = []\n",
    "nums2 = nums[1:5]\n",
    "# nums2 = nums[:5]\n",
    "\n",
    "print(nums2)"
   ]
  },
  {
   "cell_type": "code",
   "execution_count": 73,
   "metadata": {},
   "outputs": [
    {
     "name": "stdout",
     "output_type": "stream",
     "text": [
      "[1, 2, 3, 4]\n"
     ]
    }
   ],
   "source": [
    "nums2 = nums[:4]\n",
    "print(nums2)"
   ]
  },
  {
   "cell_type": "markdown",
   "metadata": {},
   "source": [
    "Problem Statement"
   ]
  },
  {
   "cell_type": "code",
   "execution_count": 74,
   "metadata": {},
   "outputs": [
    {
     "name": "stdout",
     "output_type": "stream",
     "text": [
      "2 3 4 "
     ]
    }
   ],
   "source": [
    "# What will be the output of following code?\n",
    "\n",
    "li = [1,2,3,4,5]\n",
    "for i in li[1:4]:\n",
    "    print(i,end= ' ')"
   ]
  },
  {
   "cell_type": "markdown",
   "metadata": {},
   "source": [
    "Finding Maximum Number"
   ]
  },
  {
   "cell_type": "code",
   "execution_count": 87,
   "metadata": {},
   "outputs": [
    {
     "name": "stdout",
     "output_type": "stream",
     "text": [
      "9\n"
     ]
    }
   ],
   "source": [
    "all_num = list(map(int, input().split()))  # Taking list of integer in input\n",
    "max_num = all_num[0]  # Initialize max_num with the first number in the list\n",
    "\n",
    "for nums in all_num:  # Iterate through all numbers in the list\n",
    "    max_num = max(nums, max_num)  # Compare each number with max_num to find the maximum\n",
    "\n",
    "print(max_num)  # Print the maximum number\n"
   ]
  }
 ],
 "metadata": {
  "kernelspec": {
   "display_name": "Python 3",
   "language": "python",
   "name": "python3"
  },
  "language_info": {
   "codemirror_mode": {
    "name": "ipython",
    "version": 3
   },
   "file_extension": ".py",
   "mimetype": "text/x-python",
   "name": "python",
   "nbconvert_exporter": "python",
   "pygments_lexer": "ipython3",
   "version": "3.12.4"
  }
 },
 "nbformat": 4,
 "nbformat_minor": 2
}
