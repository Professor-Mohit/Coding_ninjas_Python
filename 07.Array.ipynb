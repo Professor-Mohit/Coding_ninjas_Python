{
 "cells": [
  {
   "cell_type": "markdown",
   "metadata": {},
   "source": [
    "Array\n"
   ]
  },
  {
   "cell_type": "markdown",
   "metadata": {},
   "source": [
    "What's the output for this statement ?\n"
   ]
  },
  {
   "cell_type": "code",
   "execution_count": 1,
   "metadata": {},
   "outputs": [
    {
     "name": "stdout",
     "output_type": "stream",
     "text": [
      "array('i', [1, 2, 3, 5, 10])\n"
     ]
    }
   ],
   "source": [
    "# Problem statement\n",
    "import array \n",
    "\n",
    "a = array.array('i',[1,2,3,4,5])\n",
    "\n",
    "a.append(10)\n",
    "\n",
    "a.append(20)\n",
    "\n",
    "a.pop(3)\n",
    "\n",
    "a.pop()\n",
    "\n",
    "print(a)"
   ]
  },
  {
   "cell_type": "markdown",
   "metadata": {},
   "source": [
    "Creating lists"
   ]
  },
  {
   "cell_type": "code",
   "execution_count": 12,
   "metadata": {},
   "outputs": [
    {
     "name": "stdout",
     "output_type": "stream",
     "text": [
      "array('i', [1, 2, 3, 4]) <class 'array.array'>\n",
      "[1, 2, 3, 4] <class 'list'>\n"
     ]
    }
   ],
   "source": [
    "import array as arr\n",
    "my_array = arr.array('i',[1,2,3,4])\n",
    "print(my_array, type(my_array))\n",
    "\n",
    "my_list = list(my_array)\n",
    "print(my_list , type(my_list))"
   ]
  },
  {
   "cell_type": "code",
   "execution_count": 17,
   "metadata": {},
   "outputs": [
    {
     "name": "stdout",
     "output_type": "stream",
     "text": [
      "10\n",
      "10\n",
      "<class 'int'>\n",
      "<class 'list'>\n"
     ]
    }
   ],
   "source": [
    "marks = [1,2,3,4]\n",
    "tot = 0\n",
    "for num in marks:\n",
    "    tot = tot + num\n",
    "print(tot)\n",
    "\n",
    "tot2 = 0\n",
    "for i in range(len(marks)):\n",
    "    tot2 += marks[i]\n",
    "print(tot2)\n",
    "print(type(tot2))\n",
    "print(type(marks))"
   ]
  },
  {
   "cell_type": "markdown",
   "metadata": {},
   "source": [
    "Problem Statement"
   ]
  },
  {
   "cell_type": "code",
   "execution_count": 19,
   "metadata": {},
   "outputs": [
    {
     "name": "stdout",
     "output_type": "stream",
     "text": [
      "['abcd', 'def', 5]\n"
     ]
    }
   ],
   "source": [
    "li =['abcd', 'def']\n",
    "li.insert(4,5)\n",
    "print(li)"
   ]
  }
 ],
 "metadata": {
  "kernelspec": {
   "display_name": "Python 3",
   "language": "python",
   "name": "python3"
  },
  "language_info": {
   "codemirror_mode": {
    "name": "ipython",
    "version": 3
   },
   "file_extension": ".py",
   "mimetype": "text/x-python",
   "name": "python",
   "nbconvert_exporter": "python",
   "pygments_lexer": "ipython3",
   "version": "3.12.4"
  }
 },
 "nbformat": 4,
 "nbformat_minor": 2
}
