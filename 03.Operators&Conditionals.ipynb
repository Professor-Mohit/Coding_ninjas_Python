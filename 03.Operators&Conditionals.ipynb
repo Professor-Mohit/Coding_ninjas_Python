{
 "cells": [
  {
   "cell_type": "markdown",
   "metadata": {},
   "source": [
    "Problem statement\n",
    "\n",
    "What is the value of x after executing the following code:\n",
    "\n",
    "x = 5\n",
    "\n",
    "x += 3"
   ]
  },
  {
   "cell_type": "code",
   "execution_count": 1,
   "metadata": {},
   "outputs": [
    {
     "name": "stdout",
     "output_type": "stream",
     "text": [
      "8\n"
     ]
    }
   ],
   "source": [
    "\n",
    "\n",
    "x = 5\n",
    "x += 3\n",
    "\n",
    "print(x)"
   ]
  },
  {
   "cell_type": "markdown",
   "metadata": {},
   "source": [
    "Problem statement\n",
    "\n",
    "a = 20\n",
    "\n",
    "print(a >= 20)"
   ]
  },
  {
   "cell_type": "code",
   "execution_count": 2,
   "metadata": {},
   "outputs": [
    {
     "name": "stdout",
     "output_type": "stream",
     "text": [
      "True\n"
     ]
    }
   ],
   "source": [
    "\n",
    "a = 20\n",
    "print(a >= 20)"
   ]
  },
  {
   "cell_type": "markdown",
   "metadata": {},
   "source": [
    "Problem statement\n",
    "\n",
    "a = 20\n",
    "\n",
    "b = 10\n",
    "\n",
    "print(a >= 20 and b <= 20)"
   ]
  },
  {
   "cell_type": "code",
   "execution_count": 3,
   "metadata": {},
   "outputs": [
    {
     "name": "stdout",
     "output_type": "stream",
     "text": [
      "True\n"
     ]
    }
   ],
   "source": [
    "\n",
    "a = 20\n",
    "b = 10\n",
    "print(a >= 20 and b <= 20)"
   ]
  },
  {
   "cell_type": "markdown",
   "metadata": {},
   "source": [
    "Problem statement\n",
    "\n",
    "You are given two integers, a and b. Your task is to implement a program that performs the following operations using bitwise operators:\n",
    "\n",
    "1. Calculate the bitwise left shift (<<) of a by 1 position to the left.  \n",
    "2. Calculate the bitwise right shift (>>) of b by 1 position to the         right.\n",
    "3. Print the results of each operation."
   ]
  },
  {
   "cell_type": "code",
   "execution_count": 4,
   "metadata": {},
   "outputs": [
    {
     "name": "stdout",
     "output_type": "stream",
     "text": [
      "24\n",
      "3\n"
     ]
    }
   ],
   "source": [
    "a = 12  # Example value for 'a'\n",
    "b = 7   # Example value for 'b'\n",
    "\n",
    "# Bitwise left shift for 'a'\n",
    "print(a<<1)\n",
    "\n",
    "# Bitwise right shift for 'b'\n",
    "print(b>>1)"
   ]
  },
  {
   "cell_type": "code",
   "execution_count": 6,
   "metadata": {},
   "outputs": [
    {
     "name": "stdout",
     "output_type": "stream",
     "text": [
      "AND 1\n",
      "OR 7\n",
      "XOR 6\n"
     ]
    }
   ],
   "source": [
    "# Bitwise operator\n",
    "\n",
    "print(\"AND\", 5 & 3) #read bitwise operator for further knowledge\n",
    "\n",
    "print(\"OR\", 5 | 3)\n",
    "\n",
    "print(\"XOR\", 5 ^ 3)\n"
   ]
  }
 ],
 "metadata": {
  "kernelspec": {
   "display_name": "Python 3",
   "language": "python",
   "name": "python3"
  },
  "language_info": {
   "codemirror_mode": {
    "name": "ipython",
    "version": 3
   },
   "file_extension": ".py",
   "mimetype": "text/x-python",
   "name": "python",
   "nbconvert_exporter": "python",
   "pygments_lexer": "ipython3",
   "version": "3.12.4"
  }
 },
 "nbformat": 4,
 "nbformat_minor": 2
}
