{
 "cells": [
  {
   "cell_type": "markdown",
   "metadata": {},
   "source": [
    "1. Problem statement\n",
    "\n",
    "    What will be the output of the given code segment?\n",
    "\n",
    "    a = 10 \n",
    "\n",
    "    b = 20 \n",
    "\n",
    "    print(\"a\",b)"
   ]
  },
  {
   "cell_type": "code",
   "execution_count": 1,
   "metadata": {},
   "outputs": [
    {
     "name": "stdout",
     "output_type": "stream",
     "text": [
      "a 20\n"
     ]
    }
   ],
   "source": [
    "\n",
    "\n",
    "a = 10 \n",
    "b = 20 \n",
    "print(\"a\",b)"
   ]
  },
  {
   "cell_type": "markdown",
   "metadata": {},
   "source": [
    "2. Problem statement\n",
    "\n",
    "    What will be the output of the given code segment?\n",
    "\n",
    "    a,b,c = 10,20 \n",
    "\n",
    "    print(c)"
   ]
  },
  {
   "cell_type": "code",
   "execution_count": 2,
   "metadata": {},
   "outputs": [
    {
     "ename": "ValueError",
     "evalue": "not enough values to unpack (expected 3, got 2)",
     "output_type": "error",
     "traceback": [
      "\u001b[1;31m---------------------------------------------------------------------------\u001b[0m",
      "\u001b[1;31mValueError\u001b[0m                                Traceback (most recent call last)",
      "Cell \u001b[1;32mIn[2], line 1\u001b[0m\n\u001b[1;32m----> 1\u001b[0m a,b,c \u001b[38;5;241m=\u001b[39m \u001b[38;5;241m10\u001b[39m,\u001b[38;5;241m20\u001b[39m \n\u001b[0;32m      2\u001b[0m \u001b[38;5;28mprint\u001b[39m(c)\n",
      "\u001b[1;31mValueError\u001b[0m: not enough values to unpack (expected 3, got 2)"
     ]
    }
   ],
   "source": [
    "a,b,c = 10,20 \n",
    "print(c)"
   ]
  },
  {
   "cell_type": "markdown",
   "metadata": {},
   "source": [
    "3. Problem statement\n",
    "\n",
    "    What is the Data type of \"x\" after the code executes?\n",
    "\n",
    "    x = \"abcd\"\n",
    "    \n",
    "    x = 10\n"
   ]
  },
  {
   "cell_type": "code",
   "execution_count": 4,
   "metadata": {},
   "outputs": [
    {
     "name": "stdout",
     "output_type": "stream",
     "text": [
      "10 10\n"
     ]
    }
   ],
   "source": [
    "\n",
    "x = \"abcd\"\n",
    "x = 10\n",
    "print(x,x)"
   ]
  },
  {
   "cell_type": "markdown",
   "metadata": {},
   "source": [
    "Problem statement\n",
    "\n",
    "Write a Python program that prints the data type of x."
   ]
  },
  {
   "cell_type": "code",
   "execution_count": 5,
   "metadata": {},
   "outputs": [
    {
     "name": "stdout",
     "output_type": "stream",
     "text": [
      "<class 'float'>\n"
     ]
    }
   ],
   "source": [
    "x = 25.5\n",
    "#print the data type !!\n",
    "print (type(x))"
   ]
  },
  {
   "cell_type": "markdown",
   "metadata": {},
   "source": [
    "Problem Statement\n",
    "\n",
    "What will be the output of the given code segment?\n",
    "\n",
    "x= \"abc\"\n",
    "\n",
    "print(x*3)"
   ]
  },
  {
   "cell_type": "code",
   "execution_count": 6,
   "metadata": {},
   "outputs": [
    {
     "name": "stdout",
     "output_type": "stream",
     "text": [
      "abcabcabc\n"
     ]
    }
   ],
   "source": [
    "\n",
    "\n",
    "x= \"abc\"\n",
    "print(x*3)"
   ]
  },
  {
   "cell_type": "markdown",
   "metadata": {},
   "source": [
    "Problem statement\n",
    "\n",
    "Write a program to input marks of three tests of a student (all integers). Then calculate and print the average of all test marks."
   ]
  },
  {
   "cell_type": "code",
   "execution_count": 8,
   "metadata": {},
   "outputs": [
    {
     "name": "stdout",
     "output_type": "stream",
     "text": [
      "4.333333333333333\n"
     ]
    }
   ],
   "source": [
    "x = int(input())\n",
    "y = int(input())\n",
    "z = int(input())\n",
    "\n",
    "avg = (x + y + z) / 3\n",
    "print(avg)"
   ]
  },
  {
   "cell_type": "markdown",
   "metadata": {},
   "source": [
    "Calculate area of Right angle triangle"
   ]
  },
  {
   "cell_type": "code",
   "execution_count": 11,
   "metadata": {},
   "outputs": [
    {
     "name": "stdout",
     "output_type": "stream",
     "text": [
      "6.0\n"
     ]
    }
   ],
   "source": [
    "base = int(input())\n",
    "hypo = int(input())\n",
    "\n",
    "area = 0.5 * base * hypo\n",
    "print(area)"
   ]
  },
  {
   "cell_type": "markdown",
   "metadata": {},
   "source": [
    "Problem statement\n",
    "\n",
    "\n",
    "You and your friends are having a cookie-baking party, and you want to ensure that each person gets an equal share of cookies. You have a total number of cookies baked, and you need to divide them equally among your friends\n",
    "\n",
    "Note:\n",
    "1. Ask the user to input the total number of cookies baked.\n",
    "2. Ask the user to input the number of friends present.\n",
    "3. Calculate how many cookies each friend will get if the cookies       are       divided equally among them.\n",
    "4. Print the total number of cookies each friend will get."
   ]
  },
  {
   "cell_type": "code",
   "execution_count": 13,
   "metadata": {},
   "outputs": [
    {
     "name": "stdout",
     "output_type": "stream",
     "text": [
      "2\n"
     ]
    }
   ],
   "source": [
    "c = int(input())\n",
    "f = int(input())\n",
    "print(c//f)"
   ]
  },
  {
   "cell_type": "markdown",
   "metadata": {},
   "source": [
    "Assignments"
   ]
  },
  {
   "cell_type": "markdown",
   "metadata": {},
   "source": [
    "Calculate late Fee\n",
    "\n",
    "\n",
    "Problem statement\n",
    "\n",
    "Let's make a program for the library! You know when you forget to return a book on time? Well, this program will help you figure out how much you owe in late fees!\n",
    "\n",
    "Here's how it works:\n",
    "\n",
    "First, Take input \"X\" as how many days late you are with returning your book.\n",
    "Then, it will calculate how much money you need to pay for being late. \n",
    "Don't worry; it's just a small amount for each day.\n",
    "Finally, the program will tell you the total amount you owe. Easy, right?\n",
    "\n",
    "Note:\n",
    "Assume that the late fee is 0.25 per day."
   ]
  },
  {
   "cell_type": "code",
   "execution_count": 14,
   "metadata": {},
   "outputs": [
    {
     "name": "stdout",
     "output_type": "stream",
     "text": [
      "1.75\n"
     ]
    }
   ],
   "source": [
    "late = int(input())\n",
    "print(late * 0.25)"
   ]
  },
  {
   "cell_type": "markdown",
   "metadata": {},
   "source": [
    "Problem statement\n",
    "\n",
    "Take the principal amount, rate of interest, and the time period as input and calculate the Simple Interest.\n",
    "\n",
    "Note: Print the answer as integer value."
   ]
  },
  {
   "cell_type": "code",
   "execution_count": 19,
   "metadata": {},
   "outputs": [
    {
     "name": "stdout",
     "output_type": "stream",
     "text": [
      "448\n"
     ]
    }
   ],
   "source": [
    "principal = int(input())\n",
    "rate = float(input())\n",
    "time = int(input())\n",
    "\n",
    "print(int((principal * rate * time) / 100))"
   ]
  }
 ],
 "metadata": {
  "kernelspec": {
   "display_name": "Python 3",
   "language": "python",
   "name": "python3"
  },
  "language_info": {
   "codemirror_mode": {
    "name": "ipython",
    "version": 3
   },
   "file_extension": ".py",
   "mimetype": "text/x-python",
   "name": "python",
   "nbconvert_exporter": "python",
   "pygments_lexer": "ipython3",
   "version": "3.12.4"
  }
 },
 "nbformat": 4,
 "nbformat_minor": 2
}
